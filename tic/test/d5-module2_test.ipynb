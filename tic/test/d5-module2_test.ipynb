{
 "cells": [
  {
   "cell_type": "code",
   "execution_count": 1,
   "id": "e796dca1-7b42-49f7-89ce-09c5215dffb8",
   "metadata": {
    "tags": []
   },
   "outputs": [],
   "source": [
    "from game import TicTacToe, MemoryTicTacToe"
   ]
  },
  {
   "cell_type": "code",
   "execution_count": 2,
   "id": "d7117962-3b73-4fcb-96fb-19df6c8f6042",
   "metadata": {
    "tags": []
   },
   "outputs": [
    {
     "data": {
      "application/vnd.jupyter.widget-view+json": {
       "model_id": "4a282dbc42c4439da5e245caca754a05",
       "version_major": 2,
       "version_minor": 0
      },
      "text/plain": [
       "VBox(children=(Label(value='Ready'), GridBox(children=(Button(style=ButtonStyle()), Button(style=ButtonStyle()…"
      ]
     },
     "metadata": {},
     "output_type": "display_data"
    },
    {
     "data": {
      "application/vnd.jupyter.widget-view+json": {
       "model_id": "7914967c5f8d4cbb9cd018fca65584b2",
       "version_major": 2,
       "version_minor": 0
      },
      "text/plain": [
       "Output()"
      ]
     },
     "metadata": {},
     "output_type": "display_data"
    }
   ],
   "source": [
    "from bots import RandomBot\n",
    "game = TicTacToe()\n",
    "game.display()\n",
    "bot = RandomBot(game, 'O')\n",
    "game.set_bot(bot)"
   ]
  },
  {
   "cell_type": "code",
   "execution_count": 3,
   "id": "654f3790-eec5-4329-ac18-e66d99cde8d4",
   "metadata": {
    "tags": []
   },
   "outputs": [
    {
     "data": {
      "application/vnd.jupyter.widget-view+json": {
       "model_id": "93b68bdc243c43adae29cfe3dd6e56ea",
       "version_major": 2,
       "version_minor": 0
      },
      "text/plain": [
       "VBox(children=(Label(value='Ready'), GridBox(children=(Button(style=ButtonStyle()), Button(style=ButtonStyle()…"
      ]
     },
     "metadata": {},
     "output_type": "display_data"
    },
    {
     "data": {
      "application/vnd.jupyter.widget-view+json": {
       "model_id": "1d5d9edddcb74bbe91889ebdec94327f",
       "version_major": 2,
       "version_minor": 0
      },
      "text/plain": [
       "Output()"
      ]
     },
     "metadata": {},
     "output_type": "display_data"
    }
   ],
   "source": [
    "from bots import RLBot\n",
    "game = TicTacToe()\n",
    "game.display()\n",
    "bot = RLBot(game, 'O', 0.5, 0.9, 1)\n",
    "game.set_bot(bot)"
   ]
  },
  {
   "cell_type": "code",
   "execution_count": 4,
   "id": "dc66072f-19d7-4174-bec2-8647ad105431",
   "metadata": {
    "tags": []
   },
   "outputs": [],
   "source": [
    "import numpy as np\n",
    "# game and bots\n",
    "game = MemoryTicTacToe()\n",
    "Simon = RLBot(game, 'X', 0.2, 0.9, 0.5)\n",
    "Olive = RLBot(game, 'O', 0.2, 0.9, 0.5)\n",
    "\n",
    "# tracking arrays\n",
    "players = ['X', 'O']\n",
    "bots = [Simon, Olive]\n",
    "old_states = ['','']\n",
    "actions = [0, 0]\n",
    "new_states = ['','']\n",
    "\n",
    "# train the bots\n",
    "def train(): \n",
    "    # in game variable\n",
    "    in_game = True\n",
    "    game.start_over()\n",
    "    play_idx = 0\n",
    "    while in_game: \n",
    "\n",
    "        old_state, action, new_state = bots[play_idx].move()\n",
    "        old_states[play_idx] = old_state\n",
    "        new_states[play_idx] = new_state\n",
    "        actions[play_idx] = action\n",
    "\n",
    "        # check win or end\n",
    "        board = np.array(game.board)\n",
    "        winner = game.check_win()\n",
    "        if winner!=' ': \n",
    "            in_game = False\n",
    "            for i in range(2): \n",
    "                # reward the winner\n",
    "                if players[i]==winner: \n",
    "                    bots[i].update_q_values(old_states[i], actions[i], 10, new_states[i])\n",
    "                # penalize the loser\n",
    "                else: \n",
    "                    bots[i].update_q_values(old_states[i], actions[i], -10, new_states[i])\n",
    "        elif bots[play_idx].board_is_full(board): \n",
    "            in_game = False\n",
    "\n",
    "        # alternate turn\n",
    "        play_idx = 1 if play_idx==0 else 0"
   ]
  },
  {
   "cell_type": "code",
   "execution_count": 5,
   "id": "bfc5de43-e183-4d2a-90bc-68d1ff992d52",
   "metadata": {
    "tags": []
   },
   "outputs": [
    {
     "name": "stdout",
     "output_type": "stream",
     "text": [
      "The program took 4506233.704090118 milliseconds to complete.\n"
     ]
    }
   ],
   "source": [
    "import time\n",
    "\n",
    "start_time = time.time()\n",
    "for run in range(10000000): \n",
    "    train()\n",
    "end_time = time.time()\n",
    "elapsed = (end_time - start_time)*1000\n",
    "print(f\"The program took {elapsed} milliseconds to complete.\")"
   ]
  },
  {
   "cell_type": "code",
   "execution_count": 6,
   "id": "e666a52b-462f-4b7f-b5d3-1e055713f0e7",
   "metadata": {
    "tags": []
   },
   "outputs": [
    {
     "data": {
      "application/vnd.jupyter.widget-view+json": {
       "model_id": "6e87900309e74f62bc6f6e5620785523",
       "version_major": 2,
       "version_minor": 0
      },
      "text/plain": [
       "VBox(children=(Label(value='Ready'), GridBox(children=(Button(style=ButtonStyle()), Button(style=ButtonStyle()…"
      ]
     },
     "metadata": {},
     "output_type": "display_data"
    },
    {
     "data": {
      "application/vnd.jupyter.widget-view+json": {
       "model_id": "aaa178066a7540ad9945d5648ca11e11",
       "version_major": 2,
       "version_minor": 0
      },
      "text/plain": [
       "Output()"
      ]
     },
     "metadata": {},
     "output_type": "display_data"
    }
   ],
   "source": [
    "real_game = TicTacToe()\n",
    "real_game.display()\n",
    "real_game.set_bot(Olive)\n",
    "Olive.set_params(0.5, 0.9, 0)\n",
    "Olive.change_game(real_game)"
   ]
  },
  {
   "cell_type": "code",
   "execution_count": null,
   "id": "8ea0e6bf-b2e7-4639-9742-62504c2df616",
   "metadata": {},
   "outputs": [],
   "source": []
  }
 ],
 "metadata": {
  "kernelspec": {
   "display_name": "Python 3 (ipykernel)",
   "language": "python",
   "name": "python3"
  },
  "language_info": {
   "codemirror_mode": {
    "name": "ipython",
    "version": 3
   },
   "file_extension": ".py",
   "mimetype": "text/x-python",
   "name": "python",
   "nbconvert_exporter": "python",
   "pygments_lexer": "ipython3",
   "version": "3.9.6"
  }
 },
 "nbformat": 4,
 "nbformat_minor": 5
}
