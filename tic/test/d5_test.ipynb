{
 "cells": [
  {
   "cell_type": "markdown",
   "id": "0cdecfbf-3e42-47b1-874b-00cb950d51bb",
   "metadata": {},
   "source": [
    "# TicTacToe\n",
    "\n",
    "## First Day\n",
    "\n",
    "For the frist day, we are creating a simple game for two persons. \n",
    "\n",
    "## Second Day\n",
    "\n",
    "In part 2, we will add a few features before creating a bot: \n",
    "\n",
    "1) Clean up the code a bit. \n",
    "2) Add a status bar and a reset button to start new game. \n",
    "3) Include a check_win function to check who the winner and end the game. \n",
    "\n",
    "```\n",
    "[Status]\n",
    " ___________\n",
    "| O |   |   |\n",
    " --- --- ---\n",
    "|   | X |   |\n",
    " --- --- ---\n",
    "| X | O |   |\n",
    " --- --- ---\n",
    "|   Reset   |\n",
    " -----------\n",
    "```"
   ]
  },
  {
   "cell_type": "code",
   "execution_count": 1,
   "id": "17533353-35dc-4e0b-8b29-7d81b6dd4fb9",
   "metadata": {
    "tags": []
   },
   "outputs": [],
   "source": [
    "# Install ipywidgets and IPython in they are not found\n",
    "import ipywidgets as widgets\n",
    "from IPython.display import display\n",
    "\n",
    "\n",
    "# The game class to construct the tic tac toe game\n",
    "class TicTacToe: \n",
    "    def __init__(self): \n",
    "        self.board = [ [' ' for col in range(3)] for row in range(3)]\n",
    "        self.player = 'X'\n",
    "        self.winner = ' '\n",
    "        \n",
    "        # User Interface element\n",
    "        # Status Bar\n",
    "        self.status = widgets.Label('Ready')\n",
    "        # Cell Buttons\n",
    "        self.buttons = [ [widgets.Button(description='') for button in range(3)] for row in range(3)]\n",
    "        # register the make_move function to each button's onclick event\n",
    "        for i in range(3): \n",
    "            for j in range(3): \n",
    "                self.buttons[i][j].on_click(self.make_move(i, j))\n",
    "        self.button_list = [button for row in self.buttons for button in row]\n",
    "        # Reset Button\n",
    "        self.reset_button = widgets.Button(description='New Game', layout=widgets.Layout(width='450px'))\n",
    "        self.reset_button.on_click(self.reset())\n",
    "        # Output\n",
    "        self.output = widgets.Output()\n",
    "    \n",
    "    # set a bot to play this game\n",
    "    def set_bot(self, bot): \n",
    "        self.bot = bot\n",
    "    \n",
    "    # Start a NEW game\n",
    "    def reset(self): \n",
    "        def on_reset_clicked(_): \n",
    "            self.start_over()\n",
    "        return on_reset_clicked          \n",
    "\n",
    "    # reset variable to start a new game\n",
    "    def start_over(self): \n",
    "        self.player = 'X'\n",
    "        self.winner = ' '\n",
    "        self.status.value = 'Ready'\n",
    "        # clear the memory of 3x3 matrix\n",
    "        for i in range(3): \n",
    "            for j in range(3): \n",
    "                self.board[i][j] = ' '\n",
    "        # clear the buttons on the grid\n",
    "        for button in self.button_list: \n",
    "            button.description = ' '\n",
    "    \n",
    "    # Put either \"X\" or \"O\" on the ith row and jth column\n",
    "    def make_move(self, i, j): \n",
    "        def on_button_clicked(_): \n",
    "            # human move\n",
    "            self.move(i,j)\n",
    "            # bot move\n",
    "            if self.winner==' ': \n",
    "                self.bot.move()\n",
    "            \n",
    "        return on_button_clicked\n",
    "    \n",
    "    # core function to make a move\n",
    "    # for a human (click) or a bot\n",
    "    def move(self, i, j):\n",
    "        if self.winner==' ' and self.board[i][j] == ' ': \n",
    "            self.board[i][j] = self.player\n",
    "            self.buttons[i][j].description = self.player\n",
    "\n",
    "            # turn taking\n",
    "            if self.player == 'X': \n",
    "                self.player = 'O'\n",
    "            else: \n",
    "                self.player = 'X'\n",
    "        self.status.value = 'In progress, ' + self.player + ' playing.'\n",
    "        # check winner\n",
    "        self.winner = self.check_win()\n",
    "        if self.winner != ' ': \n",
    "            self.status.value = self.winner + ' won!'\n",
    "    \n",
    "    # Check if there is a winner\n",
    "    # return the winner, 'X' or 'O'\n",
    "    # OR, return ' ' if no winner\n",
    "    def check_win(self): \n",
    "        # check diagnals\n",
    "        if self.board[1][1]!=' ' and self.board[0][0]==self.board[1][1] and self.board[1][1]==self.board[2][2]:\n",
    "            return self.board[0][0]\n",
    "        if self.board[1][1]!=' ' and self.board[0][2]==self.board[1][1] and self.board[1][1]==self.board[2][0]:\n",
    "            return self.board[1][1]\n",
    "        \n",
    "        # check rows\n",
    "        for i in range(3): \n",
    "            if self.board[i][0]!=' ' and self.board[i][0]==self.board[i][1] and self.board[i][1]==self.board[i][2]:\n",
    "                return self.board[i][0]\n",
    "        \n",
    "        # check columns\n",
    "        for j in range(3): \n",
    "            if self.board[0][j]!=' ' and self.board[0][j]==self.board[1][j] and self.board[1][j]==self.board[2][j]:\n",
    "                return self.board[0][j]\n",
    "        \n",
    "        # no winner found at this point\n",
    "        return ' '\n",
    "        \n",
    "    \n",
    "    def display(self): \n",
    "        self.grid = widgets.GridBox(self.button_list,layout=widgets.Layout( grid_template_columns=\"repeat(3, 150px)\"))\n",
    "        self.game_box = widgets.VBox([self.status, self.grid, self.reset_button])\n",
    "        display(self.game_box, self.output)"
   ]
  },
  {
   "cell_type": "markdown",
   "id": "7c5ba19a-8f44-4d51-830a-157635cd2b58",
   "metadata": {},
   "source": [
    "## Bot 1: Random Bot\n",
    "\n",
    "The Tic-Tac-Toe game is now ready and can be played by two human players. \n",
    "\n",
    "Let's create our first bot so we can play against it--\n",
    "\n",
    "1. In this first attempt, we will create a **RANDOM** bot just like an iRobot Roomba. \n",
    "2. It won't be very smart but will perform some (random) work, again, just like iRobot. \n",
    "3. This is our **baseline** model. We will create more advanced (smarter) models down the load and compare them back to this very first model. "
   ]
  },
  {
   "cell_type": "code",
   "execution_count": 84,
   "id": "38b572e2-6fab-42be-8ef8-9549816632c3",
   "metadata": {
    "tags": []
   },
   "outputs": [
    {
     "data": {
      "application/vnd.jupyter.widget-view+json": {
       "model_id": "2208a1cae0fd43dea09a6875266ed927",
       "version_major": 2,
       "version_minor": 0
      },
      "text/plain": [
       "VBox(children=(Label(value='Ready'), GridBox(children=(Button(style=ButtonStyle()), Button(style=ButtonStyle()…"
      ]
     },
     "metadata": {},
     "output_type": "display_data"
    },
    {
     "data": {
      "application/vnd.jupyter.widget-view+json": {
       "model_id": "e301d6fccd9a4e55be1e7c0ca703d349",
       "version_major": 2,
       "version_minor": 0
      },
      "text/plain": [
       "Output()"
      ]
     },
     "metadata": {},
     "output_type": "display_data"
    }
   ],
   "source": [
    "game = TicTacToe()\n",
    "game.display()"
   ]
  },
  {
   "cell_type": "code",
   "execution_count": 2,
   "id": "00aa3304-e7f5-4c09-923e-8830ca9a0db2",
   "metadata": {
    "tags": []
   },
   "outputs": [],
   "source": [
    "import random\n",
    "\n",
    "class RandomBot:\n",
    "    def __init__(self, game, player): \n",
    "        if player not in ['X', 'O']:\n",
    "            raise ValueError(\"Player must be either X or O!\")\n",
    "        self.game = game\n",
    "        self.player = player\n",
    "    \n",
    "    # a move function to pick a random cell\n",
    "    def move(self): \n",
    "        avail_cells = [ (i,j) for i in range(3) for j in range(3) if self.game.board[i][j]==' ' ]\n",
    "        cell = random.choice(avail_cells)\n",
    "        self.game.move(cell[0], cell[1])"
   ]
  },
  {
   "cell_type": "code",
   "execution_count": 86,
   "id": "e4b4ae76-5f6a-4e12-9ed8-fb4fc3446805",
   "metadata": {
    "tags": []
   },
   "outputs": [],
   "source": [
    "bot = RandomBot(game, 'O')\n",
    "game.set_bot(bot)"
   ]
  },
  {
   "cell_type": "markdown",
   "id": "5f1210a2-20b4-457a-8076-d60aa9f3a518",
   "metadata": {},
   "source": [
    "## Bot 2: Learn by Rewards (or Penalty)\n",
    "\n",
    "### Bug Fix First\n",
    "\n",
    "In the `check_win()` function: \n",
    "1. Check whether there are 3 SAME marks in a (horizontal/vertical/diagonal) row, e.g. \n",
    "\n",
    "```python\n",
    "self.board[0][0]==self.board[1][1] and self.board[1][1]==self.board[2][2]\n",
    "```\n",
    "\n",
    "2. In addition, these should be NON-empty marks, i.e.: \n",
    "\n",
    "```python\n",
    "self.board[0][0]!=' ' \n",
    "```\n",
    "\n",
    "### Reinforcement Learning\n",
    "\n",
    "The following video explains the idea of Reinforcement Learning (RL): \n",
    "https://youtu.be/QUPpKgXJd5M?si=D3yRIdaC9GWveXgH\n",
    "\n",
    "Key ideas of RL applied to Tic-Tac-Toe bot: \n",
    "1. Monitors every state of the game, i.e. 'X', 'O', and ' ' marks on the 3x3 grid (`3^9 = 19683` permutations). \n",
    "2. Makes a move and, depending on the `exploration rate`, it will select: \n",
    "    * EITHER an random move to **explore** different situations\n",
    "    * OR the **best move** based on past rewards\n",
    "3. No reward or penalty if there is no immediate winner. \n",
    "4. In the end: \n",
    "    * IF the bot wins, the LAST move will receive a reward of `1`\n",
    "    * IF the bot loses, the LAST move will receive a penalty of `-1`\n",
    "5. This repeat with NEW games and the bot continues to learn. \n",
    "\n",
    "Reading the above, one may wonder whether ONLY the LAST move will be rewarded? The answer is NO. \n",
    "* (1) **All actions leading to** the LAST move (for a win or loss) will be rewarded or penalized but the reward/penalty will be **discounted**. \n",
    "```\n",
    "        For example, given RLBot Actions: \n",
    "        Move1 => Move2 => Move3 (WIN)\n",
    "\n",
    "        Its rewards will be like: \n",
    "\n",
    "        Move3 (1 point) =>  Move2 (0.9 point) => Move1 (0.9*0.9 point)\n",
    "```\n",
    "\n",
    "* (2) We do have to **repeat the game** to train the bot in order to update rewards/penalities to previous moves. \n",
    "* (3) Another parameter `learning rate` determines **how fast** the bot will update the reward/penalty. "
   ]
  },
  {
   "cell_type": "code",
   "execution_count": 87,
   "id": "31907b7d-6c3e-4111-97fb-e6a4b739fbf5",
   "metadata": {
    "tags": []
   },
   "outputs": [
    {
     "data": {
      "application/vnd.jupyter.widget-view+json": {
       "model_id": "5eda21d9922046ae8e1632a1bdaf9e25",
       "version_major": 2,
       "version_minor": 0
      },
      "text/plain": [
       "VBox(children=(Label(value='Ready'), GridBox(children=(Button(style=ButtonStyle()), Button(style=ButtonStyle()…"
      ]
     },
     "metadata": {},
     "output_type": "display_data"
    },
    {
     "data": {
      "application/vnd.jupyter.widget-view+json": {
       "model_id": "82e487a242e5406da0d6c89ffbe3658a",
       "version_major": 2,
       "version_minor": 0
      },
      "text/plain": [
       "Output()"
      ]
     },
     "metadata": {},
     "output_type": "display_data"
    }
   ],
   "source": [
    "game = TicTacToe()\n",
    "game.display()\n",
    "bot = RandomBot(game, 'O')\n",
    "game.set_bot(bot)"
   ]
  },
  {
   "cell_type": "code",
   "execution_count": 88,
   "id": "b6bba348-6902-430f-9e59-c085cf10b6ca",
   "metadata": {
    "tags": []
   },
   "outputs": [
    {
     "data": {
      "text/plain": [
       "\"[' ' ' ' ' ' ' ' ' ' ' ' ' ' ' ' ' ']\""
      ]
     },
     "execution_count": 88,
     "metadata": {},
     "output_type": "execute_result"
    }
   ],
   "source": [
    "np_board2 = np.array(game.board)\n",
    "np_board1 = np_board2.reshape(-1)\n",
    "str(np_board1)"
   ]
  },
  {
   "cell_type": "code",
   "execution_count": 27,
   "id": "029ab4e9-a21c-4826-b5cc-2866083f353c",
   "metadata": {
    "tags": []
   },
   "outputs": [
    {
     "data": {
      "text/plain": [
       "[(0, 1), (0, 2), (1, 0), (2, 0), (2, 2)]"
      ]
     },
     "execution_count": 27,
     "metadata": {},
     "output_type": "execute_result"
    }
   ],
   "source": [
    "list(zip(*np.where(np_board2 == ' ')))"
   ]
  },
  {
   "cell_type": "code",
   "execution_count": 89,
   "id": "df2035f1-7e92-40a8-82b5-2e033a1fd098",
   "metadata": {
    "tags": []
   },
   "outputs": [
    {
     "data": {
      "text/plain": [
       "[0, 1, 2, 3, 4, 5, 6, 7, 8]"
      ]
     },
     "execution_count": 89,
     "metadata": {},
     "output_type": "execute_result"
    }
   ],
   "source": [
    "avail_actions = list(zip(*np.where(np_board2 == ' ')))\n",
    "avail_indices = [np.ravel_multi_index(action, (3, 3)) for action in avail_actions]\n",
    "avail_indices"
   ]
  },
  {
   "cell_type": "code",
   "execution_count": 3,
   "id": "a81fc584-6cf8-46a8-8e29-2f968c90f675",
   "metadata": {
    "tags": []
   },
   "outputs": [],
   "source": [
    "import numpy as np\n",
    "\n",
    "class RLBot:\n",
    "    def __init__(self, game, player, learning_rate=0.5, discount_factor=0.9, exploration_rate=0.1):\n",
    "        self.game = game\n",
    "        self.player = player\n",
    "        self.q_table = {}\n",
    "        self.set_params(learning_rate, discount_factor, exploration_rate)\n",
    "    \n",
    "    # change game\n",
    "    def change_game(self, game): \n",
    "        self.game = game\n",
    "    \n",
    "    # parameters affecting the bot's learning behavior\n",
    "    def set_params(self, learning_rate=0.5, discount_factor=0.9, exploration_rate=0.1): \n",
    "        self.learning_rate = learning_rate\n",
    "        self.discount_factor = discount_factor\n",
    "        self.exploration_rate = exploration_rate\n",
    "        \n",
    "    # board is a 2-dimensional np.array of 'X', 'O', or ' ' values\n",
    "    def get_state(self, board):\n",
    "        # board = np.array(self.game.board)\n",
    "        return str(board.reshape(-1))  # flatten to 1-dimensional\n",
    "        \n",
    "    # get current q values of a given `state`\n",
    "    def get_q_values(self, state):\n",
    "        if state not in self.q_table:\n",
    "            self.q_table[state] = np.zeros(9)\n",
    "        return self.q_table[state]\n",
    "    \n",
    "    # get available actions\n",
    "    def get_avail_actions(self, board): \n",
    "        actions_2d = list(zip(*np.where(board == ' ')))\n",
    "        actions_1d = [np.ravel_multi_index(act, (3, 3)) for act in actions_2d]\n",
    "        return actions_1d\n",
    "    \n",
    "    # a potential draw when board is full\n",
    "    def board_is_full(self, board): \n",
    "        return len(self.get_avail_actions(board))==0\n",
    "    \n",
    "    # select an action given a `state` and `available actions`\n",
    "    def select_action(self, state, available_actions):\n",
    "        if np.random.random() < self.exploration_rate:\n",
    "            action = np.random.choice(available_actions)\n",
    "        else: \n",
    "            q_values = self.get_q_values(state)\n",
    "            # Get the q_values of the available actions\n",
    "            available_q_values = q_values[available_actions]\n",
    "            # select the action with the highest available q value\n",
    "            best_action_index = np.argmax(available_q_values)\n",
    "            # return to available_actions to find the original index for the best value\n",
    "            action = available_actions[best_action_index]\n",
    "        return action\n",
    "    \n",
    "    # update q values for the (old) state and action\n",
    "    # based on 1) immediate reward, and 2) existing reward in the new state (that the action leads to)\n",
    "    def update_q_values(self, old_state, action, reward, new_state):\n",
    "        old_q_values = self.get_q_values(old_state)\n",
    "        new_q_values = self.get_q_values(new_state)\n",
    "        old_q_values[action] = old_q_values[action] + self.learning_rate * (reward + self.discount_factor * np.max(new_q_values) - old_q_values[action])\n",
    "        \n",
    "    # make a move, an exploratory (random) or learned one. \n",
    "    # return [old_state, action, new_state]\n",
    "    def move(self):\n",
    "        board = np.array(self.game.board)\n",
    "        state = self.get_state(board)\n",
    "        actions_1d = self.get_avail_actions(board)\n",
    "        action_1d = self.select_action(state, actions_1d)\n",
    "        action_2d = np.unravel_index(action_1d, (3,3))\n",
    "        # print(action_1d, action_2d)\n",
    "        self.game.move(action_2d[0], action_2d[1])\n",
    "        new_board = np.array(self.game.board)\n",
    "        new_state = self.get_state(new_board)\n",
    "        return state, action_1d, new_state"
   ]
  },
  {
   "cell_type": "code",
   "execution_count": 174,
   "id": "e0775dca-007f-4594-8dad-83677eae860f",
   "metadata": {
    "tags": []
   },
   "outputs": [
    {
     "data": {
      "application/vnd.jupyter.widget-view+json": {
       "model_id": "895fa90b98324d70a10b57c63de0b6e8",
       "version_major": 2,
       "version_minor": 0
      },
      "text/plain": [
       "VBox(children=(Label(value='Ready'), GridBox(children=(Button(style=ButtonStyle()), Button(style=ButtonStyle()…"
      ]
     },
     "metadata": {},
     "output_type": "display_data"
    },
    {
     "data": {
      "application/vnd.jupyter.widget-view+json": {
       "model_id": "87b41e97698240e89e7ff083a32d9977",
       "version_major": 2,
       "version_minor": 0
      },
      "text/plain": [
       "Output()"
      ]
     },
     "metadata": {},
     "output_type": "display_data"
    }
   ],
   "source": [
    "game = TicTacToe()\n",
    "game.display()\n",
    "bot = RLBot(game, 'O', 0.5, 0.9, 1)\n",
    "game.set_bot(bot)"
   ]
  },
  {
   "cell_type": "code",
   "execution_count": 175,
   "id": "f71c6836-8839-4448-b236-3f5a693659c7",
   "metadata": {},
   "outputs": [
    {
     "data": {
      "application/vnd.jupyter.widget-view+json": {
       "model_id": "939e1a74580b46e3b033607197bb8049",
       "version_major": 2,
       "version_minor": 0
      },
      "text/plain": [
       "VBox(children=(Label(value='Ready'), GridBox(children=(Button(style=ButtonStyle()), Button(style=ButtonStyle()…"
      ]
     },
     "metadata": {},
     "output_type": "display_data"
    },
    {
     "data": {
      "application/vnd.jupyter.widget-view+json": {
       "model_id": "78b4941f7bb4489999ad27fdb701e95e",
       "version_major": 2,
       "version_minor": 0
      },
      "text/plain": [
       "Output()"
      ]
     },
     "metadata": {},
     "output_type": "display_data"
    }
   ],
   "source": [
    "game = TicTacToe()\n",
    "Simon = RLBot(game, 'X', 0.5, 0.8, 1)\n",
    "Olive = RLBot(game, 'O', 0.5, 0.8, 1)\n",
    "game.display()"
   ]
  },
  {
   "cell_type": "code",
   "execution_count": 116,
   "id": "411470c1-bcb8-4c93-a81f-136c179bd57c",
   "metadata": {
    "tags": []
   },
   "outputs": [
    {
     "name": "stdout",
     "output_type": "stream",
     "text": [
      "6 (2, 0)\n"
     ]
    },
    {
     "data": {
      "text/plain": [
       "(\"['X' 'O' 'X' 'O' 'X' 'O' ' ' ' ' ' ']\",\n",
       " 6,\n",
       " \"['X' 'O' 'X' 'O' 'X' 'O' 'X' ' ' ' ']\")"
      ]
     },
     "execution_count": 116,
     "metadata": {},
     "output_type": "execute_result"
    }
   ],
   "source": [
    "Rex.move()"
   ]
  },
  {
   "cell_type": "code",
   "execution_count": 117,
   "id": "ed628d4d-3099-471d-ab1a-159f21aa8d27",
   "metadata": {
    "tags": []
   },
   "outputs": [
    {
     "name": "stdout",
     "output_type": "stream",
     "text": [
      "7 (2, 1)\n"
     ]
    },
    {
     "data": {
      "text/plain": [
       "(\"['X' 'O' 'X' 'O' 'X' 'O' 'X' ' ' ' ']\",\n",
       " 7,\n",
       " \"['X' 'O' 'X' 'O' 'X' 'O' 'X' ' ' ' ']\")"
      ]
     },
     "execution_count": 117,
     "metadata": {},
     "output_type": "execute_result"
    }
   ],
   "source": [
    "Lea.move()"
   ]
  },
  {
   "cell_type": "code",
   "execution_count": 4,
   "id": "cc9e637e-3e53-4529-a3e7-038f6318c9f5",
   "metadata": {
    "tags": []
   },
   "outputs": [],
   "source": [
    "# game and bots\n",
    "game = TicTacToe()\n",
    "Simon = RLBot(game, 'X', 0.5, 0.8, 1)\n",
    "Olive = RLBot(game, 'O', 0.5, 0.8, 1)\n",
    "\n",
    "# tracking arrays\n",
    "players = ['X', 'O']\n",
    "bots = [Simon, Olive]\n",
    "old_states = ['','']\n",
    "actions = [0, 0]\n",
    "new_states = ['','']\n",
    "\n",
    "# train the bots\n",
    "def train(): \n",
    "    # in game variable\n",
    "    in_game = True\n",
    "    game.start_over()\n",
    "    play_idx = 0\n",
    "    while in_game: \n",
    "\n",
    "        old_state, action, new_state = bots[play_idx].move()\n",
    "        old_states[play_idx] = old_state\n",
    "        new_states[play_idx] = new_state\n",
    "        actions[play_idx] = action\n",
    "\n",
    "        # check win or end\n",
    "        board = np.array(game.board)\n",
    "        winner = game.check_win()\n",
    "        if winner!=' ': \n",
    "            in_game = False\n",
    "            for i in range(2): \n",
    "                # reward the winner\n",
    "                if players[i]==winner: \n",
    "                    bots[i].update_q_values(old_states[i], actions[i], 10, new_states[i])\n",
    "                # penalize the loser\n",
    "                else: \n",
    "                    bots[i].update_q_values(old_states[i], actions[i], -10, new_states[i])\n",
    "        elif playing_bot.board_is_full(board): \n",
    "            in_game = False\n",
    "\n",
    "        # alternate turn\n",
    "        play_idx = 1 if play_idx==0 else 0"
   ]
  },
  {
   "cell_type": "code",
   "execution_count": 191,
   "id": "9f19a026-ee06-4b9d-9814-08d1e1190693",
   "metadata": {
    "tags": []
   },
   "outputs": [],
   "source": [
    "# game.display()"
   ]
  },
  {
   "cell_type": "code",
   "execution_count": 179,
   "id": "6b9d97ef-9cbf-4e73-a922-1b29a11ec08c",
   "metadata": {
    "tags": []
   },
   "outputs": [],
   "source": [
    "train()"
   ]
  },
  {
   "cell_type": "code",
   "execution_count": 154,
   "id": "a8a69215-eee4-4f84-af91-9eee97308751",
   "metadata": {
    "tags": []
   },
   "outputs": [],
   "source": [
    "o_state, act, n_state = Simon.move()"
   ]
  },
  {
   "cell_type": "code",
   "execution_count": 158,
   "id": "b5eb4d6e-6a3e-4e9e-8325-5aa5d33c1772",
   "metadata": {
    "tags": []
   },
   "outputs": [],
   "source": [
    "o_state, act, n_state = Olive.move()"
   ]
  },
  {
   "cell_type": "code",
   "execution_count": 164,
   "id": "cb6f266f-760d-4d3c-9bf9-a2321835f8ba",
   "metadata": {
    "tags": []
   },
   "outputs": [],
   "source": [
    "Simon.update_q_values(o_state, act, 10, n_state) "
   ]
  },
  {
   "cell_type": "code",
   "execution_count": 165,
   "id": "2bce6f6a-226b-4f31-9337-728b9102d333",
   "metadata": {
    "tags": []
   },
   "outputs": [],
   "source": [
    "Olive.update_q_values(o_state, act, 10, n_state) "
   ]
  },
  {
   "cell_type": "code",
   "execution_count": 171,
   "id": "d62dd4a4-2e88-4bc5-9946-04ba79fa2ce3",
   "metadata": {
    "tags": []
   },
   "outputs": [
    {
     "data": {
      "text/plain": [
       "array([0., 0., 0., 0., 0., 0., 0., 0., 0.])"
      ]
     },
     "execution_count": 171,
     "metadata": {},
     "output_type": "execute_result"
    }
   ],
   "source": [
    "Olive.get_q_values(o_state)"
   ]
  },
  {
   "cell_type": "code",
   "execution_count": 167,
   "id": "9c41f53e-86bc-421d-8a31-59ec25230b85",
   "metadata": {
    "tags": []
   },
   "outputs": [
    {
     "data": {
      "text/plain": [
       "array([0. , 0. , 0. , 0. , 0. , 1.9, 0. , 0. , 0. ])"
      ]
     },
     "execution_count": 167,
     "metadata": {},
     "output_type": "execute_result"
    }
   ],
   "source": [
    "Simon.get_q_values(o_state)"
   ]
  },
  {
   "cell_type": "code",
   "execution_count": 149,
   "id": "b2d546db-1903-492c-892a-f56665b54b50",
   "metadata": {
    "tags": []
   },
   "outputs": [
    {
     "data": {
      "text/plain": [
       "([\"['O' 'X' 'X' 'X' 'O' 'O' ' ' ' ' ' ']\",\n",
       "  \"['O' 'X' 'X' 'X' 'O' 'O' 'X' ' ' ' ']\"],\n",
       " [6, 8],\n",
       " [\"['O' 'X' 'X' 'X' 'O' 'O' 'X' ' ' ' ']\",\n",
       "  \"['O' 'X' 'X' 'X' 'O' 'O' 'X' ' ' 'O']\"])"
      ]
     },
     "execution_count": 149,
     "metadata": {},
     "output_type": "execute_result"
    }
   ],
   "source": [
    "old_states, actions, new_states"
   ]
  },
  {
   "cell_type": "code",
   "execution_count": null,
   "id": "ac27f9f1-8b1e-45d0-9d3c-5628c9493e13",
   "metadata": {
    "tags": []
   },
   "outputs": [],
   "source": []
  },
  {
   "cell_type": "code",
   "execution_count": 189,
   "id": "756ae84a-89e0-46fe-8e4d-4ef59a715f32",
   "metadata": {
    "tags": []
   },
   "outputs": [
    {
     "data": {
      "application/vnd.jupyter.widget-view+json": {
       "model_id": "cced27feddf6480b8a3c1da4543814fe",
       "version_major": 2,
       "version_minor": 0
      },
      "text/plain": [
       "VBox(children=(Label(value='Ready'), GridBox(children=(Button(style=ButtonStyle()), Button(style=ButtonStyle()…"
      ]
     },
     "metadata": {},
     "output_type": "display_data"
    },
    {
     "data": {
      "application/vnd.jupyter.widget-view+json": {
       "model_id": "3cafb5edd6e94fc2992c8538fd43af41",
       "version_major": 2,
       "version_minor": 0
      },
      "text/plain": [
       "Output()"
      ]
     },
     "metadata": {},
     "output_type": "display_data"
    }
   ],
   "source": [
    "Human_vs_Olive = TicTacToe()\n",
    "Human_vs_Olive.display()\n",
    "Human_vs_Olive.set_bot(Olive)\n",
    "Olive.set_params(0.5, 0.9, 0.1)\n",
    "Olive.change_game(Human_vs_Olive)"
   ]
  },
  {
   "cell_type": "code",
   "execution_count": 134,
   "id": "0a7431ad-fb0b-48bc-af77-6f7e80b853f4",
   "metadata": {
    "tags": []
   },
   "outputs": [
    {
     "name": "stdout",
     "output_type": "stream",
     "text": [
      "7 (2, 1)\n"
     ]
    },
    {
     "data": {
      "text/plain": [
       "(\"['X' 'O' 'X' 'O' 'X' 'O' 'X' ' ' ' ']\",\n",
       " 7,\n",
       " \"['X' 'O' 'X' 'O' 'X' 'O' 'X' ' ' ' ']\")"
      ]
     },
     "execution_count": 134,
     "metadata": {},
     "output_type": "execute_result"
    }
   ],
   "source": [
    "Lea.move()"
   ]
  },
  {
   "cell_type": "markdown",
   "id": "501230d6-8925-4dd6-a374-1c3506e8d521",
   "metadata": {},
   "source": [
    "## Invisible Game\n",
    "\n",
    "For training"
   ]
  },
  {
   "cell_type": "code",
   "execution_count": 5,
   "id": "c487148c-afd8-4611-8af7-642053a49d60",
   "metadata": {
    "tags": []
   },
   "outputs": [],
   "source": [
    "# The game class to construct the tic tac toe game\n",
    "class MemoryTicTacToe: \n",
    "    def __init__(self): \n",
    "        self.board = [ [' ' for col in range(3)] for row in range(3)]\n",
    "        self.player = 'X'\n",
    "        self.winner = ' '\n",
    "    \n",
    "    # set a bot to play this game\n",
    "    def set_bot(self, bot): \n",
    "        self.bot = bot\n",
    "\n",
    "    # reset variable to start a new game\n",
    "    def start_over(self): \n",
    "        self.player = 'X'\n",
    "        self.winner = ' '\n",
    "        # clear the memory of 3x3 matrix\n",
    "        for i in range(3): \n",
    "            for j in range(3): \n",
    "                self.board[i][j] = ' '\n",
    "    \n",
    "    # core function to make a move\n",
    "    # for a human (click) or a bot\n",
    "    def move(self, i, j):\n",
    "        if self.winner==' ' and self.board[i][j] == ' ': \n",
    "            self.board[i][j] = self.player\n",
    "\n",
    "            # turn taking\n",
    "            if self.player == 'X': \n",
    "                self.player = 'O'\n",
    "            else: \n",
    "                self.player = 'X'\n",
    "        # check winner\n",
    "        self.winner = self.check_win()\n",
    "\n",
    "    \n",
    "    # Check if there is a winner\n",
    "    # return the winner, 'X' or 'O'\n",
    "    # OR, return ' ' if no winner\n",
    "    def check_win(self): \n",
    "        # check diagnals\n",
    "        if self.board[1][1]!=' ' and self.board[0][0]==self.board[1][1] and self.board[1][1]==self.board[2][2]:\n",
    "            return self.board[0][0]\n",
    "        if self.board[1][1]!=' ' and self.board[0][2]==self.board[1][1] and self.board[1][1]==self.board[2][0]:\n",
    "            return self.board[1][1]\n",
    "        \n",
    "        # check rows\n",
    "        for i in range(3): \n",
    "            if self.board[i][0]!=' ' and self.board[i][0]==self.board[i][1] and self.board[i][1]==self.board[i][2]:\n",
    "                return self.board[i][0]\n",
    "        \n",
    "        # check columns\n",
    "        for j in range(3): \n",
    "            if self.board[0][j]!=' ' and self.board[0][j]==self.board[1][j] and self.board[1][j]==self.board[2][j]:\n",
    "                return self.board[0][j]\n",
    "        \n",
    "        # no winner found at this point\n",
    "        return ' '\n",
    "        "
   ]
  },
  {
   "cell_type": "code",
   "execution_count": 9,
   "id": "3d778f6a-a42a-47b8-ab16-7a3968bb735a",
   "metadata": {
    "tags": []
   },
   "outputs": [],
   "source": [
    "# game and bots\n",
    "game = MemoryTicTacToe()\n",
    "Simon = RLBot(game, 'X', 0.1, 0.9, 1)\n",
    "Olive = RLBot(game, 'O', 0.1, 0.9, 1)\n",
    "\n",
    "# tracking arrays\n",
    "players = ['X', 'O']\n",
    "bots = [Simon, Olive]\n",
    "old_states = ['','']\n",
    "actions = [0, 0]\n",
    "new_states = ['','']\n",
    "\n",
    "# train the bots\n",
    "def train(): \n",
    "    # in game variable\n",
    "    in_game = True\n",
    "    game.start_over()\n",
    "    play_idx = 0\n",
    "    while in_game: \n",
    "\n",
    "        old_state, action, new_state = bots[play_idx].move()\n",
    "        old_states[play_idx] = old_state\n",
    "        new_states[play_idx] = new_state\n",
    "        actions[play_idx] = action\n",
    "\n",
    "        # check win or end\n",
    "        board = np.array(game.board)\n",
    "        winner = game.check_win()\n",
    "        if winner!=' ': \n",
    "            in_game = False\n",
    "            for i in range(2): \n",
    "                # reward the winner\n",
    "                if players[i]==winner: \n",
    "                    bots[i].update_q_values(old_states[i], actions[i], 10, new_states[i])\n",
    "                # penalize the loser\n",
    "                else: \n",
    "                    bots[i].update_q_values(old_states[i], actions[i], -10, new_states[i])\n",
    "        elif bots[play_idx].board_is_full(board): \n",
    "            in_game = False\n",
    "\n",
    "        # alternate turn\n",
    "        play_idx = 1 if play_idx==0 else 0"
   ]
  },
  {
   "cell_type": "code",
   "execution_count": 10,
   "id": "1faa6d53-032f-4e24-8f6d-38d680198ac3",
   "metadata": {
    "tags": []
   },
   "outputs": [
    {
     "name": "stdout",
     "output_type": "stream",
     "text": [
      "The program took 4743447.942733765 milliseconds to complete.\n"
     ]
    }
   ],
   "source": [
    "import time\n",
    "\n",
    "start_time = time.time()\n",
    "for run in range(10000000): \n",
    "    train()\n",
    "end_time = time.time()\n",
    "elapsed = (end_time - start_time)*1000\n",
    "print(f\"The program took {elapsed} milliseconds to complete.\")"
   ]
  },
  {
   "cell_type": "code",
   "execution_count": 11,
   "id": "fd3c97f2-84b1-4bd1-8eec-338f8f350da3",
   "metadata": {
    "tags": []
   },
   "outputs": [
    {
     "data": {
      "application/vnd.jupyter.widget-view+json": {
       "model_id": "be6eab24fbe2445390647cdbec5c6fc6",
       "version_major": 2,
       "version_minor": 0
      },
      "text/plain": [
       "VBox(children=(Label(value='Ready'), GridBox(children=(Button(style=ButtonStyle()), Button(style=ButtonStyle()…"
      ]
     },
     "metadata": {},
     "output_type": "display_data"
    },
    {
     "data": {
      "application/vnd.jupyter.widget-view+json": {
       "model_id": "9ada08a6cc7449219677a620148bb80d",
       "version_major": 2,
       "version_minor": 0
      },
      "text/plain": [
       "Output()"
      ]
     },
     "metadata": {},
     "output_type": "display_data"
    }
   ],
   "source": [
    "real_game = TicTacToe()\n",
    "real_game.display()\n",
    "real_game.set_bot(Olive)\n",
    "Olive.set_params(0.5, 0.9, 0)\n",
    "Olive.change_game(real_game)"
   ]
  },
  {
   "cell_type": "code",
   "execution_count": null,
   "id": "7f49be97-d22d-496b-a4ab-bc433ed8534b",
   "metadata": {},
   "outputs": [],
   "source": []
  }
 ],
 "metadata": {
  "kernelspec": {
   "display_name": "Python 3 (ipykernel)",
   "language": "python",
   "name": "python3"
  },
  "language_info": {
   "codemirror_mode": {
    "name": "ipython",
    "version": 3
   },
   "file_extension": ".py",
   "mimetype": "text/x-python",
   "name": "python",
   "nbconvert_exporter": "python",
   "pygments_lexer": "ipython3",
   "version": "3.9.6"
  }
 },
 "nbformat": 4,
 "nbformat_minor": 5
}
