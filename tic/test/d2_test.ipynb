{
 "cells": [
  {
   "cell_type": "markdown",
   "id": "0cdecfbf-3e42-47b1-874b-00cb950d51bb",
   "metadata": {},
   "source": [
    "# TicTacToe\n",
    "\n",
    "For the frist day, we are creating a simple game for two persons. "
   ]
  },
  {
   "cell_type": "code",
   "execution_count": 13,
   "id": "17533353-35dc-4e0b-8b29-7d81b6dd4fb9",
   "metadata": {
    "tags": []
   },
   "outputs": [
    {
     "data": {
      "application/vnd.jupyter.widget-view+json": {
       "model_id": "ef79c54025be4c9e93708b85a0deb13e",
       "version_major": 2,
       "version_minor": 0
      },
      "text/plain": [
       "GridBox(children=(Button(style=ButtonStyle()), Button(style=ButtonStyle()), Button(style=ButtonStyle()), Butto…"
      ]
     },
     "metadata": {},
     "output_type": "display_data"
    },
    {
     "data": {
      "application/vnd.jupyter.widget-view+json": {
       "model_id": "e1c32034816d469e920affc876bc8606",
       "version_major": 2,
       "version_minor": 0
      },
      "text/plain": [
       "Output()"
      ]
     },
     "metadata": {},
     "output_type": "display_data"
    }
   ],
   "source": [
    "# Install ipywidgets and IPython in they are not found\n",
    "import ipywidgets as widgets\n",
    "from IPython.display import display\n",
    "\n",
    "\n",
    "# The game class to construct the tic tac toe game\n",
    "class TicTacToe: \n",
    "    def __init__(self): \n",
    "        self.board = [ [' ' for col in range(3)] for row in range(3)]\n",
    "        self.player = 'X'\n",
    "        self.buttons = [ [widgets.Button(description='') for button in range(3)] for row in range(3)]\n",
    "        \n",
    "        # register the make_move function to each button's onclick event\n",
    "        for i in range(3): \n",
    "            for j in range(3): \n",
    "                self.buttons[i][j].on_click(self.make_move(i, j))\n",
    "        self.output = widgets.Output()\n",
    "                \n",
    "        \n",
    "    # Put either \"X\" or \"O\" on the ith row and jth column\n",
    "    def make_move(self, i, j): \n",
    "        def on_button_clicked(_): \n",
    "            if self.board[i][j] == ' ': \n",
    "                self.board[i][j] = self.player\n",
    "                self.buttons[i][j].description = self.player\n",
    "\n",
    "                # turn taking\n",
    "                if self.player == 'X': \n",
    "                    self.player = 'O'\n",
    "                else: \n",
    "                    self.player = 'X'\n",
    "        return on_button_clicked\n",
    "        \n",
    "    def display(self): \n",
    "        grid = widgets.GridBox( [button for row in self.buttons for button in row], \n",
    "                                  layout=widgets.Layout( grid_template_columns=\"repeat(3, 150px)\" ) )\n",
    "        display(grid, self.output)\n",
    "        \n",
    "game = TicTacToe()\n",
    "game.display()"
   ]
  },
  {
   "cell_type": "markdown",
   "id": "dbcb28bf-fd32-43d4-9510-7a79f4434a68",
   "metadata": {},
   "source": [
    "## First Bot\n",
    "\n",
    "1. Check who may have won and whether the game is over. \n",
    "2. Reset button to start over. \n",
    "3. Create our first bot. "
   ]
  },
  {
   "cell_type": "code",
   "execution_count": 28,
   "id": "861dc719-ec98-4c54-913a-4751969e8550",
   "metadata": {
    "tags": []
   },
   "outputs": [
    {
     "data": {
      "application/vnd.jupyter.widget-view+json": {
       "model_id": "d26186cc50d3486b83550bca1ca2a2fc",
       "version_major": 2,
       "version_minor": 0
      },
      "text/plain": [
       "VBox(children=(Label(value='Init'), GridBox(children=(Button(style=ButtonStyle()), Button(style=ButtonStyle())…"
      ]
     },
     "metadata": {},
     "output_type": "display_data"
    },
    {
     "data": {
      "application/vnd.jupyter.widget-view+json": {
       "model_id": "640cccaebe3f4cbea9d42565e85d6ec7",
       "version_major": 2,
       "version_minor": 0
      },
      "text/plain": [
       "Output()"
      ]
     },
     "metadata": {},
     "output_type": "display_data"
    }
   ],
   "source": [
    "# Install ipywidgets and IPython in they are not found\n",
    "import ipywidgets as widgets\n",
    "from IPython.display import display\n",
    "\n",
    "\n",
    "# The game class to construct the tic tac toe game\n",
    "class TicTacToe: \n",
    "    def __init__(self): \n",
    "        self.reset()\n",
    "        self.box = widgets.VBox([self.message, self.grid, self.reset_button])\n",
    "        self.output = widgets.Output()\n",
    "        self.message.value = 'Init'\n",
    "    \n",
    "    # reset and start over\n",
    "    def reset(self):\n",
    "        self.board = [ [' ' for col in range(3)] for row in range(3)]\n",
    "        self.player = 'X'\n",
    "        self.winnder = ' '\n",
    "        self.buttons = [ [widgets.Button(description='') for button in range(3)] for row in range(3)]\n",
    "        \n",
    "        # message and reset button\n",
    "        self.message = widgets.Label(\"Just Started\")\n",
    "        self.reset_button = widgets.Button(description='Start Over', layout=widgets.Layout(width='450px'))\n",
    "        self.reset_button.on_click(self.on_reset_clicked)\n",
    "        \n",
    "        # register the make_move function to each button's onclick event\n",
    "        for i in range(3): \n",
    "            for j in range(3): \n",
    "                self.buttons[i][j].on_click(self.make_move(i, j))\n",
    "        self.grid = widgets.GridBox( [button for row in self.buttons for button in row], \n",
    "                                  layout=widgets.Layout( grid_template_columns=\"repeat(3, 150px)\" ) )\n",
    "        # self.display()\n",
    "    \n",
    "    # triggered by button click\n",
    "    def on_reset_clicked(self,_): \n",
    "        return self.reset\n",
    "        \n",
    "    # Put either \"X\" or \"O\" on the ith row and jth column\n",
    "    def make_move(self, i, j): \n",
    "        def on_button_clicked(_): \n",
    "            if self.board[i][j] == ' ': \n",
    "                self.board[i][j] = self.player\n",
    "                self.buttons[i][j].description = self.player\n",
    "\n",
    "                # turn taking\n",
    "                if self.player == 'X': \n",
    "                    self.player = 'O'\n",
    "                else: \n",
    "                    self.player = 'X'\n",
    "        return on_button_clicked\n",
    "    \n",
    "    # Check if there is a winner \n",
    "    # return the winner 'X' or 'O'\n",
    "    # return ' ' if NO winner yet\n",
    "    def check_win(self): \n",
    "        # check diagnals\n",
    "        if self.board[0][0] == self.board[1][1] and self.board[1][1] == self.board[2][2]: \n",
    "            return self.board[1][1]\n",
    "        if self.board[0][2] == self.board[1][1] and self.board[1][1] == self.board[2][0]: \n",
    "            return self.board[1][1]\n",
    "        \n",
    "        # check rows\n",
    "        for i in range(3): \n",
    "            if self.board[i][0]==self.board[i][1] and self.board[i][1]==self.board[i][2]: \n",
    "                return self.board[i][0]\n",
    "        \n",
    "        # check columns\n",
    "        for j in range(3): \n",
    "            if self.board[0][j]==self.board[1][j] and self.board[1][j]==self.board[2][j]: \n",
    "                return self.board[0][j]\n",
    "        \n",
    "        # No winner if it hasn't returned yet\n",
    "        return ' '\n",
    "        \n",
    "        \n",
    "    def display(self): \n",
    "        display(self.box, self.output)\n",
    "        \n",
    "game = TicTacToe()\n",
    "game.display()"
   ]
  },
  {
   "cell_type": "markdown",
   "id": "7386963b-ffe2-4c3a-9e8d-e5b66aae057c",
   "metadata": {},
   "source": [
    "## First Bot Second Try"
   ]
  },
  {
   "cell_type": "code",
   "execution_count": 46,
   "id": "1fdc2ad5-02f9-4116-a1af-354d608f2d38",
   "metadata": {
    "tags": []
   },
   "outputs": [
    {
     "data": {
      "application/vnd.jupyter.widget-view+json": {
       "model_id": "10a15375145b4447ab99beeebc7efb56",
       "version_major": 2,
       "version_minor": 0
      },
      "text/plain": [
       "VBox(children=(Label(value='Ready'), GridBox(children=(Button(style=ButtonStyle()), Button(style=ButtonStyle()…"
      ]
     },
     "metadata": {},
     "output_type": "display_data"
    },
    {
     "data": {
      "application/vnd.jupyter.widget-view+json": {
       "model_id": "2238d2a38f8e4c1a98d6999c780d9179",
       "version_major": 2,
       "version_minor": 0
      },
      "text/plain": [
       "Output()"
      ]
     },
     "metadata": {},
     "output_type": "display_data"
    }
   ],
   "source": [
    "# Install ipywidgets and IPython in they are not found\n",
    "import ipywidgets as widgets\n",
    "from IPython.display import display\n",
    "\n",
    "\n",
    "# The game class to construct the tic tac toe game\n",
    "class TicTacToe: \n",
    "    def __init__(self): \n",
    "        self.board = [ [' ' for col in range(3)] for row in range(3)]\n",
    "        self.player = 'X'\n",
    "        self.winner = ' '\n",
    "        \n",
    "        # UI Elements\n",
    "        # Status Label\n",
    "        self.status = widgets.Label('Ready')\n",
    "        # Cell Buttons in the Grid\n",
    "        self.buttons = [ [widgets.Button(description='') for button in range(3)] for row in range(3)]\n",
    "        # register the make_move function to each button's onclick event\n",
    "        for i in range(3): \n",
    "            for j in range(3): \n",
    "                self.buttons[i][j].on_click(self.make_move(i, j))\n",
    "        self.button_list = [button for row in self.buttons for button in row]\n",
    "        # Reset Button\n",
    "        self.reset_button = widgets.Button(description='New Game', layout=widgets.Layout(width='450px'))\n",
    "        self.reset_button.on_click(self.reset())\n",
    "        # Final output\n",
    "        self.output = widgets.Output()\n",
    "        \n",
    "    \n",
    "    # Start over\n",
    "    def reset(self): \n",
    "        def on_reset_clicked(_): \n",
    "            self.player = 'X'\n",
    "            self.winner = ' '\n",
    "            self.status.value = 'Ready'\n",
    "            for i in range(3): \n",
    "                for j in range(3): \n",
    "                    self.board[i][j] = ' '\n",
    "            for button in self.button_list: \n",
    "                button.description = ' '\n",
    "        return on_reset_clicked\n",
    "        \n",
    "    # Put either \"X\" or \"O\" on the ith row and jth column\n",
    "    def make_move(self, i, j): \n",
    "        def on_button_clicked(_): \n",
    "            if self.winner == ' ' and self.board[i][j] == ' ': \n",
    "                self.status.value = 'In Progress'\n",
    "                self.board[i][j] = self.player\n",
    "                self.buttons[i][j].description = self.player\n",
    "\n",
    "                # turn taking\n",
    "                if self.player == 'X': \n",
    "                    self.player = 'O'\n",
    "                else: \n",
    "                    self.player = 'X'\n",
    "                \n",
    "            # check winner\n",
    "            self.winner = self.check_win()\n",
    "            if self.winner != ' ': \n",
    "                self.status.value = self.winner + ' won!'\n",
    "            \n",
    "        return on_button_clicked\n",
    "    \n",
    "    # Check if there is a winner \n",
    "    # return the winner 'X' or 'O'\n",
    "    # return ' ' if NO winner yet\n",
    "    def check_win(self): \n",
    "        # check diagnals\n",
    "        if self.board[0][0] == self.board[1][1] and self.board[1][1] == self.board[2][2]: \n",
    "            return self.board[1][1]\n",
    "        if self.board[0][2] == self.board[1][1] and self.board[1][1] == self.board[2][0]: \n",
    "            return self.board[1][1]\n",
    "        \n",
    "        # check rows\n",
    "        for i in range(3): \n",
    "            if self.board[i][0]==self.board[i][1] and self.board[i][1]==self.board[i][2]: \n",
    "                return self.board[i][0]\n",
    "        \n",
    "        # check columns\n",
    "        for j in range(3): \n",
    "            if self.board[0][j]==self.board[1][j] and self.board[1][j]==self.board[2][j]: \n",
    "                return self.board[0][j]\n",
    "        \n",
    "        # No winner if it hasn't returned yet\n",
    "        return ' '\n",
    "    \n",
    "    def display(self):\n",
    "        # Game grid with cell buttons\n",
    "        self.grid = widgets.GridBox(self.button_list, layout=widgets.Layout( grid_template_columns=\"repeat(3, 150px)\" ) )\n",
    "        # Three elements in a vertical layout\n",
    "        self.game_box = widgets.VBox([self.status, self.grid, self.reset_button])\n",
    "        display(self.game_box, self.output)\n",
    "        \n",
    "game = TicTacToe()\n",
    "game.display()"
   ]
  },
  {
   "cell_type": "code",
   "execution_count": 31,
   "id": "f197660d-13df-4394-94a3-d49a69f2640c",
   "metadata": {
    "tags": []
   },
   "outputs": [],
   "source": [
    "game.button_list[3].description = \"test\""
   ]
  },
  {
   "cell_type": "code",
   "execution_count": 41,
   "id": "7fc0790b-34e5-45e6-bd90-04548c34165d",
   "metadata": {
    "tags": []
   },
   "outputs": [],
   "source": [
    "game.status.value = \"Started\""
   ]
  },
  {
   "cell_type": "code",
   "execution_count": null,
   "id": "f11278c0-debc-43d5-bc06-d69cd09ab8d4",
   "metadata": {},
   "outputs": [],
   "source": []
  }
 ],
 "metadata": {
  "kernelspec": {
   "display_name": "Python 3 (ipykernel)",
   "language": "python",
   "name": "python3"
  },
  "language_info": {
   "codemirror_mode": {
    "name": "ipython",
    "version": 3
   },
   "file_extension": ".py",
   "mimetype": "text/x-python",
   "name": "python",
   "nbconvert_exporter": "python",
   "pygments_lexer": "ipython3",
   "version": "3.9.6"
  }
 },
 "nbformat": 4,
 "nbformat_minor": 5
}
