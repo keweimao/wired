{
 "cells": [
  {
   "cell_type": "markdown",
   "id": "0cdecfbf-3e42-47b1-874b-00cb950d51bb",
   "metadata": {},
   "source": [
    "# TicTacToe\n",
    "\n",
    "## First Day\n",
    "\n",
    "For the frist day, we are creating a simple game for two persons. \n",
    "\n",
    "## Second Day\n",
    "\n",
    "In part 2, we will add a few features before creating a bot: \n",
    "\n",
    "1) Clean up the code a bit. \n",
    "2) Add a status bar and a reset button to start new game. \n",
    "3) Include a check_win function to check who the winner and end the game. \n",
    "\n",
    "```\n",
    "[Status]\n",
    " ___________\n",
    "| O |   |   |\n",
    " --- --- ---\n",
    "|   | X |   |\n",
    " --- --- ---\n",
    "| X | O |   |\n",
    " --- --- ---\n",
    "|   Reset   |\n",
    " -----------\n",
    "```"
   ]
  },
  {
   "cell_type": "code",
   "execution_count": 2,
   "id": "17533353-35dc-4e0b-8b29-7d81b6dd4fb9",
   "metadata": {
    "tags": []
   },
   "outputs": [
    {
     "data": {
      "application/vnd.jupyter.widget-view+json": {
       "model_id": "8479ae4054cf4dbaab5f99302e65393b",
       "version_major": 2,
       "version_minor": 0
      },
      "text/plain": [
       "VBox(children=(Label(value='Ready'), GridBox(children=(Button(style=ButtonStyle()), Button(style=ButtonStyle()…"
      ]
     },
     "metadata": {},
     "output_type": "display_data"
    },
    {
     "data": {
      "application/vnd.jupyter.widget-view+json": {
       "model_id": "113f1156d3a54c0aab0caf668b610b23",
       "version_major": 2,
       "version_minor": 0
      },
      "text/plain": [
       "Output()"
      ]
     },
     "metadata": {},
     "output_type": "display_data"
    }
   ],
   "source": [
    "# Install ipywidgets and IPython in they are not found\n",
    "import ipywidgets as widgets\n",
    "from IPython.display import display\n",
    "\n",
    "\n",
    "# The game class to construct the tic tac toe game\n",
    "class TicTacToe: \n",
    "    def __init__(self): \n",
    "        self.board = [ [' ' for col in range(3)] for row in range(3)]\n",
    "        self.player = 'X'\n",
    "        self.winner = ' '\n",
    "        \n",
    "        # User Interface element\n",
    "        # Status Bar\n",
    "        self.status = widgets.Label('Ready')\n",
    "        # Cell Buttons\n",
    "        self.buttons = [ [widgets.Button(description='') for button in range(3)] for row in range(3)]\n",
    "        # register the make_move function to each button's onclick event\n",
    "        for i in range(3): \n",
    "            for j in range(3): \n",
    "                self.buttons[i][j].on_click(self.make_move(i, j))\n",
    "        self.button_list = [button for row in self.buttons for button in row]\n",
    "        # Reset Button\n",
    "        self.reset_button = widgets.Button(description='New Game', layout=widgets.Layout(width='450px'))\n",
    "        self.reset_button.on_click(self.reset())\n",
    "        # Output\n",
    "        self.output = widgets.Output()\n",
    "    \n",
    "    # set a bot to play this game\n",
    "    def set_bot(self, bot): \n",
    "        self.bot = bot\n",
    "    \n",
    "    # Start a NEW game\n",
    "    def reset(self): \n",
    "        def on_reset_clicked(_): \n",
    "            self.player = 'X'\n",
    "            self.winner = ' '\n",
    "            self.status.value = 'Ready'\n",
    "            # clear the memory of 3x3 matrix\n",
    "            for i in range(3): \n",
    "                for j in range(3): \n",
    "                    self.board[i][j] = ' '\n",
    "            # clear the buttons on the grid\n",
    "            for button in self.button_list: \n",
    "                button.description = ' '\n",
    "        return on_reset_clicked          \n",
    "    \n",
    "    # Put either \"X\" or \"O\" on the ith row and jth column\n",
    "    def make_move(self, i, j): \n",
    "        def on_button_clicked(_): \n",
    "            # human move\n",
    "            self.move(i,j)\n",
    "            # bot move\n",
    "            if self.winner==' ': \n",
    "                self.bot.move()\n",
    "            \n",
    "        return on_button_clicked\n",
    "    \n",
    "    # core function to make a move\n",
    "    # for a human (click) or a bot\n",
    "    def move(self, i, j):\n",
    "        if self.winner==' ' and self.board[i][j] == ' ': \n",
    "            self.board[i][j] = self.player\n",
    "            self.buttons[i][j].description = self.player\n",
    "\n",
    "            # turn taking\n",
    "            if self.player == 'X': \n",
    "                self.player = 'O'\n",
    "            else: \n",
    "                self.player = 'X'\n",
    "        self.status.value = 'In progress, ' + self.player + ' playing.'\n",
    "        # check winner\n",
    "        self.winner = self.check_win()\n",
    "        if self.winner != ' ': \n",
    "            self.status.value = self.winner + ' won!'\n",
    "    \n",
    "    # Check if there is a winner\n",
    "    # return the winner, 'X' or 'O'\n",
    "    # OR, return ' ' if no winner\n",
    "    def check_win(self): \n",
    "        # check diagnals\n",
    "        if self.board[1][1]!=' ' and self.board[0][0]==self.board[1][1] and self.board[1][1]==self.board[2][2]:\n",
    "            return self.board[0][0]\n",
    "        if self.board[1][1]!=' ' and self.board[0][2]==self.board[1][1] and self.board[1][1]==self.board[2][0]:\n",
    "            return self.board[1][1]\n",
    "        \n",
    "        # check rows\n",
    "        for i in range(3): \n",
    "            if self.board[i][0]!=' ' and self.board[i][0]==self.board[i][1] and self.board[i][1]==self.board[i][2]:\n",
    "                return self.board[i][0]\n",
    "        \n",
    "        # check columns\n",
    "        for j in range(3): \n",
    "            if self.board[0][j]!=' ' and self.board[0][j]==self.board[1][j] and self.board[1][j]==self.board[2][j]:\n",
    "                return self.board[0][j]\n",
    "        \n",
    "        # no winner found at this point\n",
    "        return ' '\n",
    "        \n",
    "    \n",
    "    def display(self): \n",
    "        self.grid = widgets.GridBox(self.button_list,layout=widgets.Layout( grid_template_columns=\"repeat(3, 150px)\"))\n",
    "        self.game_box = widgets.VBox([self.status, self.grid, self.reset_button])\n",
    "        display(self.game_box, self.output)\n",
    "        \n",
    "game = TicTacToe()\n",
    "game.display()"
   ]
  },
  {
   "cell_type": "markdown",
   "id": "7c5ba19a-8f44-4d51-830a-157635cd2b58",
   "metadata": {},
   "source": [
    "## Bot 1: Random Bot\n",
    "\n",
    "The Tic-Tac-Toe game is now ready and can be played by two human players. \n",
    "\n",
    "Let's create our first bot so we can play against it--\n",
    "\n",
    "1. In this first attempt, we will create a **RANDOM** bot just like an iRobot Roomba. \n",
    "2. It won't be very smart but will perform some (random) work, again, just like iRobot. \n",
    "3. This is our **baseline** model. We will create more advanced (smarter) models down the load and compare them back to this very first model. "
   ]
  },
  {
   "cell_type": "code",
   "execution_count": null,
   "id": "38b572e2-6fab-42be-8ef8-9549816632c3",
   "metadata": {
    "tags": []
   },
   "outputs": [],
   "source": []
  },
  {
   "cell_type": "code",
   "execution_count": 4,
   "id": "00aa3304-e7f5-4c09-923e-8830ca9a0db2",
   "metadata": {
    "tags": []
   },
   "outputs": [],
   "source": [
    "import random\n",
    "\n",
    "class RandomBot:\n",
    "    def __init__(self, game, player): \n",
    "        if player not in ['X', 'O']:\n",
    "            raise ValueError(\"Player must be either X or O!\")\n",
    "        self.game = game\n",
    "        self.player = player\n",
    "    \n",
    "    # a move function to pick a random cell\n",
    "    def move(self): \n",
    "        avail_cells = [ (i,j) for i in range(3) for j in range(3) if self.game.board[i][j]==' ' ]\n",
    "        cell = random.choice(avail_cells)\n",
    "        self.game.move(cell[0], cell[1])"
   ]
  },
  {
   "cell_type": "code",
   "execution_count": 6,
   "id": "e4b4ae76-5f6a-4e12-9ed8-fb4fc3446805",
   "metadata": {
    "tags": []
   },
   "outputs": [
    {
     "data": {
      "application/vnd.jupyter.widget-view+json": {
       "model_id": "a68e8c6d920c460d8787bd125665b844",
       "version_major": 2,
       "version_minor": 0
      },
      "text/plain": [
       "VBox(children=(Label(value='Ready'), GridBox(children=(Button(style=ButtonStyle()), Button(style=ButtonStyle()…"
      ]
     },
     "metadata": {},
     "output_type": "display_data"
    },
    {
     "data": {
      "application/vnd.jupyter.widget-view+json": {
       "model_id": "c3eb0d557e1340fd8aa312fcd8dc43a9",
       "version_major": 2,
       "version_minor": 0
      },
      "text/plain": [
       "Output()"
      ]
     },
     "metadata": {},
     "output_type": "display_data"
    }
   ],
   "source": [
    "game = TicTacToe()\n",
    "game.display()\n",
    "bot = RandomBot(game, 'O')\n",
    "game.set_bot(bot)"
   ]
  },
  {
   "cell_type": "markdown",
   "id": "5f1210a2-20b4-457a-8076-d60aa9f3a518",
   "metadata": {},
   "source": [
    "## Bot 2: Learn by Rewards (or Penalty)\n",
    "\n",
    "### Bug Fix First\n",
    "\n",
    "In the `check_win()` function: \n",
    "1. Check whether there are 3 SAME marks in a (horizontal/vertical/diagonal) row, e.g. \n",
    "\n",
    "```python\n",
    "self.board[0][0]==self.board[1][1] and self.board[1][1]==self.board[2][2]\n",
    "```\n",
    "\n",
    "2. In addition, these should be NON-empty marks, i.e.: \n",
    "\n",
    "```python\n",
    "self.board[0][0]!=' ' \n",
    "```\n",
    "\n",
    "### Reinforcement Learning\n",
    "\n",
    "The following video explains the idea of Reinforcement Learning (RL): \n",
    "https://youtu.be/QUPpKgXJd5M?si=D3yRIdaC9GWveXgH\n",
    "\n",
    "Key ideas of RL applied to Tic-Tac-Toe bot: \n",
    "1. Monitors every state of the game, i.e. 'X', 'O', and ' ' marks on the 3x3 grid (`3^9 = 19683` permutations). \n",
    "2. Makes a move and, depending on the `exploration rate`, it will select: \n",
    "    * EITHER an random move to **explore** different situations\n",
    "    * OR the **best move** based on past rewards\n",
    "3. No reward or penalty if there is no immediate winner. \n",
    "4. In the end: \n",
    "    * IF the bot wins, the LAST move will receive a reward of `1`\n",
    "    * IF the bot loses, the LAST move will receive a penalty of `-1`\n",
    "5. This repeat with NEW games and the bot continues to learn. \n",
    "\n",
    "Reading the above, one may wonder whether ONLY the LAST move will be rewarded? The answer is NO. \n",
    "* All actions leading to the LAST move (for a win or loss) will be rewarded or penalized but the reward/penalty will be discounted. \n",
    "\n",
    "For example, given RLBot Actions: \n",
    "```\n",
    "Move1 => Move2 => Move3 (WIN)\n",
    "```\n",
    "\n",
    "Its rewards will be like: \n",
    "\n",
    "```\n",
    "Move3 (1 point) =>  Move2 (0.9 point) => Move1 (0.9*0.9 point)\n",
    "```\n",
    "\n",
    "* We do have to repeat the game to train the bot in order to update rewards/penalities to previous moves. "
   ]
  },
  {
   "cell_type": "code",
   "execution_count": 10,
   "id": "a81fc584-6cf8-46a8-8e29-2f968c90f675",
   "metadata": {
    "tags": []
   },
   "outputs": [],
   "source": [
    "import numpy as np\n",
    "\n",
    "class RLBot:\n",
    "    def __init__(self, symbol, learning_rate=0.5, discount_factor=0.9, exploration_rate=0.1):\n",
    "        self.symbol = symbol\n",
    "        self.q_table = {}\n",
    "        set_params(learning_rate, discount_factor, exploration_rate)\n",
    "    \n",
    "    # parameters affecting the bot's learning behavior\n",
    "    def set_params(self, learning_rate=0.5, discount_factor=0.9, exploration_rate=0.1): \n",
    "        self.learning_rate = learning_rate\n",
    "        self.discount_factor = discount_factor\n",
    "        self.exploration_rate = exploration_rate\n",
    "        \n",
    "    # \n",
    "    def get_state(self, board):\n",
    "        return str(board.reshape(-1))\n",
    "        \n",
    "    def get_q_values(self, state):\n",
    "        if state not in self.q_table:\n",
    "            self.q_table[state] = np.zeros(9)\n",
    "        return self.q_table[state]\n",
    "    \n",
    "    def select_action(self, state, available_actions):\n",
    "        if np.random.random() < self.exploration_rate:\n",
    "            return np.random.choice(available_actions)\n",
    "        q_values = self.get_q_values(state)\n",
    "        return np.argmax(q_values)\n",
    "    \n",
    "    def update_q_values(self, old_state, action, reward, new_state):\n",
    "        old_q_values = self.get_q_values(old_state)\n",
    "        new_q_values = self.get_q_values(new_state)\n",
    "        old_q_values[action] = old_q_values[action] + self.learning_rate * (reward + self.discount_factor * np.max(new_q_values) - old_q_values[action])\n",
    "        \n",
    "    def make_move(self, board):\n",
    "        state = self.get_state(board)\n",
    "        available_actions = list(zip(*np.where(board == ' ')))\n",
    "        action = self.select_action(state, available_actions)\n",
    "        return action"
   ]
  },
  {
   "cell_type": "code",
   "execution_count": 11,
   "id": "e0775dca-007f-4594-8dad-83677eae860f",
   "metadata": {
    "tags": []
   },
   "outputs": [
    {
     "data": {
      "text/plain": [
       "[[' ', 'O', 'O'], [' ', 'X', 'O'], ['X', 'X', 'X']]"
      ]
     },
     "execution_count": 11,
     "metadata": {},
     "output_type": "execute_result"
    }
   ],
   "source": [
    "game.board"
   ]
  },
  {
   "cell_type": "code",
   "execution_count": null,
   "id": "f71c6836-8839-4448-b236-3f5a693659c7",
   "metadata": {},
   "outputs": [],
   "source": [
    "game.board.reshape"
   ]
  }
 ],
 "metadata": {
  "kernelspec": {
   "display_name": "Python 3 (ipykernel)",
   "language": "python",
   "name": "python3"
  },
  "language_info": {
   "codemirror_mode": {
    "name": "ipython",
    "version": 3
   },
   "file_extension": ".py",
   "mimetype": "text/x-python",
   "name": "python",
   "nbconvert_exporter": "python",
   "pygments_lexer": "ipython3",
   "version": "3.9.6"
  }
 },
 "nbformat": 4,
 "nbformat_minor": 5
}
