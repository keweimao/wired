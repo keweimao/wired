{
 "cells": [
  {
   "cell_type": "markdown",
   "id": "0cdecfbf-3e42-47b1-874b-00cb950d51bb",
   "metadata": {},
   "source": [
    "# TicTacToe\n",
    "\n",
    "For the frist day, we are creating a simple game for two persons. "
   ]
  },
  {
   "cell_type": "code",
   "execution_count": 13,
   "id": "17533353-35dc-4e0b-8b29-7d81b6dd4fb9",
   "metadata": {
    "tags": []
   },
   "outputs": [
    {
     "data": {
      "application/vnd.jupyter.widget-view+json": {
       "model_id": "ef79c54025be4c9e93708b85a0deb13e",
       "version_major": 2,
       "version_minor": 0
      },
      "text/plain": [
       "GridBox(children=(Button(style=ButtonStyle()), Button(style=ButtonStyle()), Button(style=ButtonStyle()), Butto…"
      ]
     },
     "metadata": {},
     "output_type": "display_data"
    },
    {
     "data": {
      "application/vnd.jupyter.widget-view+json": {
       "model_id": "e1c32034816d469e920affc876bc8606",
       "version_major": 2,
       "version_minor": 0
      },
      "text/plain": [
       "Output()"
      ]
     },
     "metadata": {},
     "output_type": "display_data"
    }
   ],
   "source": [
    "# Install ipywidgets and IPython in they are not found\n",
    "import ipywidgets as widgets\n",
    "from IPython.display import display\n",
    "\n",
    "\n",
    "# The game class to construct the tic tac toe game\n",
    "class TicTacToe: \n",
    "    def __init__(self): \n",
    "        # self.board = [ \n",
    "        #                 [' ', ' ', ' '], \n",
    "        #                 [' ', ' ', ' '], \n",
    "        #                 [' ', ' ', ' ']\n",
    "        #             ] \n",
    "        self.board = [ [' ' for col in range(3)] for row in range(3)]\n",
    "        self.player = 'X'\n",
    "        self.buttons = [ [widgets.Button(description='') for button in range(3)] for row in range(3)]\n",
    "        \n",
    "        # register the make_move function to each button's onclick event\n",
    "        for i in range(3): \n",
    "            for j in range(3): \n",
    "                self.buttons[i][j].on_click(self.make_move(i, j))\n",
    "        self.output = widgets.Output()\n",
    "                \n",
    "        \n",
    "    # Put either \"X\" or \"O\" on the ith row and jth column\n",
    "    def make_move(self, i, j): \n",
    "        def on_button_clicked(_): \n",
    "            if self.board[i][j] == ' ': \n",
    "                self.board[i][j] = self.player\n",
    "                self.buttons[i][j].description = self.player\n",
    "\n",
    "                # turn taking\n",
    "                if self.player == 'X': \n",
    "                    self.player = 'O'\n",
    "                else: \n",
    "                    self.player = 'X'\n",
    "        return on_button_clicked\n",
    "        \n",
    "    def display(self): \n",
    "        grid = widgets.GridBox( [button for row in self.buttons for button in row], \n",
    "                                  layout=widgets.Layout( grid_template_columns=\"repeat(3, 150px)\" ) )\n",
    "        display(grid, self.output)\n",
    "        \n",
    "game = TicTacToe()\n",
    "game.display()"
   ]
  },
  {
   "cell_type": "code",
   "execution_count": null,
   "id": "c0fce972-38ee-479d-8244-4ea831e57286",
   "metadata": {},
   "outputs": [],
   "source": []
  }
 ],
 "metadata": {
  "kernelspec": {
   "display_name": "Python 3 (ipykernel)",
   "language": "python",
   "name": "python3"
  },
  "language_info": {
   "codemirror_mode": {
    "name": "ipython",
    "version": 3
   },
   "file_extension": ".py",
   "mimetype": "text/x-python",
   "name": "python",
   "nbconvert_exporter": "python",
   "pygments_lexer": "ipython3",
   "version": "3.9.6"
  }
 },
 "nbformat": 4,
 "nbformat_minor": 5
}
