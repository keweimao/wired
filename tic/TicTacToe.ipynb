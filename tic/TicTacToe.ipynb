{
 "cells": [
  {
   "cell_type": "markdown",
   "id": "0cdecfbf-3e42-47b1-874b-00cb950d51bb",
   "metadata": {},
   "source": [
    "# TicTacToe\n",
    "\n",
    "## First Day\n",
    "\n",
    "For the frist day, we are creating a simple game for two persons. \n",
    "\n",
    "## Second Day\n",
    "\n",
    "In part 2, we will add a few features before creating a bot: \n",
    "\n",
    "1) Clean up the code a bit. \n",
    "2) Add a status bar and a reset button to start new game. \n",
    "3) Include a check_win function to check who the winner and end the game. \n",
    "\n",
    "```\n",
    "[Status]\n",
    " ___________\n",
    "| O |   |   |\n",
    " --- --- ---\n",
    "|   | X |   |\n",
    " --- --- ---\n",
    "| X | O |   |\n",
    " --- --- ---\n",
    "|   Reset   |\n",
    " -----------\n",
    "```"
   ]
  },
  {
   "cell_type": "code",
   "execution_count": 2,
   "id": "17533353-35dc-4e0b-8b29-7d81b6dd4fb9",
   "metadata": {
    "tags": []
   },
   "outputs": [
    {
     "data": {
      "application/vnd.jupyter.widget-view+json": {
       "model_id": "d565f5bd9ef245709ea6682878163257",
       "version_major": 2,
       "version_minor": 0
      },
      "text/plain": [
       "VBox(children=(Label(value='Ready'), GridBox(children=(Button(style=ButtonStyle()), Button(style=ButtonStyle()…"
      ]
     },
     "metadata": {},
     "output_type": "display_data"
    },
    {
     "data": {
      "application/vnd.jupyter.widget-view+json": {
       "model_id": "25495837eb8a432aa015bf75c03745a7",
       "version_major": 2,
       "version_minor": 0
      },
      "text/plain": [
       "Output()"
      ]
     },
     "metadata": {},
     "output_type": "display_data"
    }
   ],
   "source": [
    "# Install ipywidgets and IPython in they are not found\n",
    "import ipywidgets as widgets\n",
    "from IPython.display import display\n",
    "\n",
    "\n",
    "# The game class to construct the tic tac toe game\n",
    "class TicTacToe: \n",
    "    def __init__(self): \n",
    "        self.board = [ [' ' for col in range(3)] for row in range(3)]\n",
    "        self.player = 'X'\n",
    "        self.winner = ' '\n",
    "        \n",
    "        # User Interface element\n",
    "        # Status Bar\n",
    "        self.status = widgets.Label('Ready')\n",
    "        # Cell Buttons\n",
    "        self.buttons = [ [widgets.Button(description='') for button in range(3)] for row in range(3)]\n",
    "        # register the make_move function to each button's onclick event\n",
    "        for i in range(3): \n",
    "            for j in range(3): \n",
    "                self.buttons[i][j].on_click(self.make_move(i, j))\n",
    "        self.button_list = [button for row in self.buttons for button in row]\n",
    "        # Reset Button\n",
    "        self.reset_button = widgets.Button(description='New Game', layout=widgets.Layout(width='450px'))\n",
    "        self.reset_button.on_click(self.reset())\n",
    "        # Output\n",
    "        self.output = widgets.Output()\n",
    "                \n",
    "    # Start a NEW game\n",
    "    def reset(self): \n",
    "        def on_reset_clicked(_): \n",
    "            self.player = 'X'\n",
    "            self.winner = ' '\n",
    "            self.status.value = 'Ready'\n",
    "            # clear the memory of 3x3 matrix\n",
    "            for i in range(3): \n",
    "                for j in range(3): \n",
    "                    self.board[i][j] = ' '\n",
    "            # clear the buttons on the grid\n",
    "            for button in self.button_list: \n",
    "                button.description = ' '\n",
    "        return on_reset_clicked          \n",
    "    \n",
    "    # Put either \"X\" or \"O\" on the ith row and jth column\n",
    "    def make_move(self, i, j): \n",
    "        def on_button_clicked(_): \n",
    "            if self.winner==' ' and self.board[i][j] == ' ': \n",
    "                self.board[i][j] = self.player\n",
    "                self.buttons[i][j].description = self.player\n",
    "\n",
    "                # turn taking\n",
    "                if self.player == 'X': \n",
    "                    self.player = 'O'\n",
    "                else: \n",
    "                    self.player = 'X'\n",
    "            self.status.value = 'In progress, ' + self.player + ' playing.'\n",
    "            # check winner\n",
    "            self.winner = self.check_win()\n",
    "            if self.winner != ' ': \n",
    "                self.status.value = self.winner + ' won!'\n",
    "            \n",
    "        return on_button_clicked\n",
    "    \n",
    "    # Check if there is a winner\n",
    "    # return the winner, 'X' or 'O'\n",
    "    # OR, return ' ' if no winner\n",
    "    def check_win(self): \n",
    "        # check diagnals\n",
    "        if self.board[0][0]==self.board[1][1] and self.board[1][1]==self.board[2][2]:\n",
    "            return self.board[0][0]\n",
    "        if self.board[0][2]==self.board[1][1] and self.board[1][1]==self.board[2][0]:\n",
    "            return self.board[1][1]\n",
    "        \n",
    "        # check rows\n",
    "        for i in range(3): \n",
    "            if self.board[i][0]==self.board[i][1] and self.board[i][1]==self.board[i][2]:\n",
    "                return self.board[i][0]\n",
    "        \n",
    "        # check columns\n",
    "        for j in range(3): \n",
    "            if self.board[0][j]==self.board[1][j] and self.board[1][j]==self.board[2][j]:\n",
    "                return self.board[0][j]\n",
    "        \n",
    "        # no winner found at this point\n",
    "        return ' '\n",
    "        \n",
    "    \n",
    "    def display(self): \n",
    "        self.grid = widgets.GridBox(self.button_list,layout=widgets.Layout( grid_template_columns=\"repeat(3, 150px)\"))\n",
    "        self.game_box = widgets.VBox([self.status, self.grid, self.reset_button])\n",
    "        display(self.game_box, self.output)\n",
    "        \n",
    "game = TicTacToe()\n",
    "game.display()"
   ]
  },
  {
   "cell_type": "code",
   "execution_count": null,
   "id": "c0fce972-38ee-479d-8244-4ea831e57286",
   "metadata": {},
   "outputs": [],
   "source": []
  }
 ],
 "metadata": {
  "kernelspec": {
   "display_name": "Python 3 (ipykernel)",
   "language": "python",
   "name": "python3"
  },
  "language_info": {
   "codemirror_mode": {
    "name": "ipython",
    "version": 3
   },
   "file_extension": ".py",
   "mimetype": "text/x-python",
   "name": "python",
   "nbconvert_exporter": "python",
   "pygments_lexer": "ipython3",
   "version": "3.9.6"
  }
 },
 "nbformat": 4,
 "nbformat_minor": 5
}
