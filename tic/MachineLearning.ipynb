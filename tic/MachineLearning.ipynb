{
 "cells": [
  {
   "cell_type": "markdown",
   "id": "92b8d2cf-3b13-4959-8f33-db6fbf941701",
   "metadata": {},
   "source": [
    "## Bot 2: Learn by Rewards (or Penalty)\n",
    "\n",
    "### 2.A. Code Reorganization\n",
    "\n",
    "1. `game.py` for game related modules/classes. \n",
    "2. `bots.py` for bots and machine learning modules. \n",
    "\n",
    "### 2.B. Bug Fix\n",
    "\n",
    "In the `check_win()` function: \n",
    "1. Check whether there are 3 SAME marks in a (horizontal/vertical/diagonal) row, e.g. \n",
    "\n",
    "```python\n",
    "self.board[0][0]==self.board[1][1] and self.board[1][1]==self.board[2][2]\n",
    "```\n",
    "\n",
    "2. In addition, these should be NON-empty marks, i.e.: \n",
    "\n",
    "```python\n",
    "self.board[0][0]!=' ' \n",
    "```"
   ]
  },
  {
   "cell_type": "code",
   "execution_count": 29,
   "id": "1bad7f54-c578-4f71-9e1d-2141227d9ba6",
   "metadata": {
    "tags": []
   },
   "outputs": [
    {
     "name": "stdout",
     "output_type": "stream",
     "text": [
      "The autoreload extension is already loaded. To reload it, use:\n",
      "  %reload_ext autoreload\n"
     ]
    },
    {
     "data": {
      "application/vnd.jupyter.widget-view+json": {
       "model_id": "8dd5ccb461a546cb96734573611c7da6",
       "version_major": 2,
       "version_minor": 0
      },
      "text/plain": [
       "VBox(children=(Label(value='Ready'), GridBox(children=(Button(style=ButtonStyle()), Button(style=ButtonStyle()…"
      ]
     },
     "metadata": {},
     "output_type": "display_data"
    },
    {
     "data": {
      "application/vnd.jupyter.widget-view+json": {
       "model_id": "a010bde9dae6490c98358d29c6983db3",
       "version_major": 2,
       "version_minor": 0
      },
      "text/plain": [
       "Output()"
      ]
     },
     "metadata": {},
     "output_type": "display_data"
    }
   ],
   "source": [
    "%load_ext autoreload\n",
    "%autoreload 2\n",
    "\n",
    "from game import TicTacToe\n",
    "from bots import RandomBot, RLBot\n",
    "\n",
    "game = TicTacToe()\n",
    "bot = RandomBot(game, 'O')\n",
    "game.set_bot(bot)\n",
    "game.display()"
   ]
  },
  {
   "cell_type": "code",
   "execution_count": 8,
   "id": "043131f4-ecb3-46cf-966e-110237713b8d",
   "metadata": {
    "tags": []
   },
   "outputs": [
    {
     "data": {
      "text/plain": [
       "\"['X' ' ' 'O' ' ' 'X' 'O' ' ' ' ' 'X']\""
      ]
     },
     "execution_count": 8,
     "metadata": {},
     "output_type": "execute_result"
    }
   ],
   "source": [
    "import numpy as np\n",
    "np_board = np.array(game.board)\n",
    "str(np_board.reshape(-1))"
   ]
  },
  {
   "cell_type": "code",
   "execution_count": 13,
   "id": "efac62b7-3cd1-401c-86e3-afe1c9df955b",
   "metadata": {
    "tags": []
   },
   "outputs": [
    {
     "data": {
      "text/plain": [
       "[1, 3, 6, 7]"
      ]
     },
     "execution_count": 13,
     "metadata": {},
     "output_type": "execute_result"
    }
   ],
   "source": [
    "index_2d = list(zip(*np.where(np_board==' ')))\n",
    "index_1d = [ np.ravel_multi_index(act, (3,3)) for act in index_2d ]\n",
    "index_1d"
   ]
  },
  {
   "cell_type": "markdown",
   "id": "689bd84e-ccb9-423c-ab97-a1a7f7679606",
   "metadata": {},
   "source": [
    "### 2.C. Reinforcement Learning\n",
    "\n",
    "The following video explains the idea of Reinforcement Learning (RL): \n",
    "https://youtu.be/QUPpKgXJd5M?si=D3yRIdaC9GWveXgH\n",
    "\n",
    "Key ideas of RL applied to Tic-Tac-Toe bot: \n",
    "1. Monitors every state of the game, i.e. 'X', 'O', and ' ' marks on the 3x3 grid (`3^9 = 19683` permutations). \n",
    "2. Makes a move and, depending on the `exploration rate`, it will select: \n",
    "    * EITHER an random move to **explore** different situations\n",
    "    * OR the **best move** based on past rewards\n",
    "3. No reward or penalty if there is no immediate winner. \n",
    "4. In the end: \n",
    "    * IF the bot wins, the LAST move will receive a reward of `1`\n",
    "    * IF the bot loses, the LAST move will receive a penalty of `-1`\n",
    "5. This repeat with NEW games and the bot continues to learn. \n",
    "\n",
    "Reading the above, one may wonder whether ONLY the LAST move will be rewarded? The answer is NO. \n",
    "* (1) **All actions leading to** the LAST move (for a win or loss) will be rewarded or penalized but the reward/penalty will be **discounted**. \n",
    "```\n",
    "        For example, given RLBot Actions: \n",
    "        Move1 => Move2 => Move3 (WIN)\n",
    "\n",
    "        Its rewards will be like: \n",
    "\n",
    "        Move3 (1 point) =>  Move2 (0.9 point) => Move1 (0.9*0.9 point)\n",
    "```\n",
    "\n",
    "* (2) We do have to **repeat the game** to train the bot in order to update rewards/penalities to previous moves. \n",
    "* (3) Another parameter `learning rate` determines **how fast** the bot will update the reward/penalty. "
   ]
  },
  {
   "cell_type": "code",
   "execution_count": 30,
   "id": "9deaef5c-2902-400a-841e-af6d9fae3b82",
   "metadata": {
    "tags": []
   },
   "outputs": [
    {
     "data": {
      "application/vnd.jupyter.widget-view+json": {
       "model_id": "d18f930852ed411d84d9acf947829945",
       "version_major": 2,
       "version_minor": 0
      },
      "text/plain": [
       "VBox(children=(Label(value='Ready'), GridBox(children=(Button(style=ButtonStyle()), Button(style=ButtonStyle()…"
      ]
     },
     "metadata": {},
     "output_type": "display_data"
    },
    {
     "data": {
      "application/vnd.jupyter.widget-view+json": {
       "model_id": "d359e74f3c2b42a688e89154d62f3d67",
       "version_major": 2,
       "version_minor": 0
      },
      "text/plain": [
       "Output()"
      ]
     },
     "metadata": {},
     "output_type": "display_data"
    }
   ],
   "source": [
    "game = TicTacToe()\n",
    "bot = RLBot(game, 'O', 0.1, 0.9, 0.5)\n",
    "game.set_bot(bot)\n",
    "game.display()"
   ]
  },
  {
   "cell_type": "code",
   "execution_count": 31,
   "id": "989801f6-177c-4979-961f-507e4c752a55",
   "metadata": {
    "tags": []
   },
   "outputs": [],
   "source": [
    "import numpy as np\n",
    "\n",
    "game = game = TicTacToe()\n",
    "Simon = RLBot(game, 'X', 0.2, 0.9, 0.5)\n",
    "Olive = RLBot(game, 'O', 0.2, 0.9, 0.5)\n",
    "\n",
    "# keep track of the following\n",
    "players = ['X', 'O']\n",
    "bots = [Simon, Olive]\n",
    "old_states = ['', '']\n",
    "actions = [0, 0]\n",
    "new_states = ['', '']\n",
    "\n",
    "def train(): \n",
    "    in_session = True\n",
    "    game.start_over()\n",
    "    play_idx = 0\n",
    "    while in_session: \n",
    "        old_state, action, new_state = bots[play_idx].move()\n",
    "        old_states[play_idx] = old_state\n",
    "        new_states[play_idx] = new_state\n",
    "        actions[play_idx] = action\n",
    "        \n",
    "        # check win or end\n",
    "        board = np.array(game.board)\n",
    "        winner = game.check_win()\n",
    "        if winner!=' ': \n",
    "            in_session = False\n",
    "            for i in range(2): \n",
    "                if players[i]==winner: \n",
    "                    bots[i].update_q_values(old_states[i], actions[i], 10, new_states[i])\n",
    "                else: \n",
    "                    bots[i].update_q_values(old_states[i], actions[i], -10, new_states[i])\n",
    "        elif bots[play_idx].board_is_full(board): \n",
    "            in_session = False\n",
    "        \n",
    "        # alternate the turn between 0 and 1, or \"X\" and \"O\"\n",
    "        play_idx = 1 if play_idx==0 else 0\n",
    "        "
   ]
  },
  {
   "cell_type": "code",
   "execution_count": null,
   "id": "518a714f-34e8-4372-9492-462a0e9bbd1e",
   "metadata": {
    "tags": []
   },
   "outputs": [
    {
     "name": "stderr",
     "output_type": "stream",
     "text": [
      "IOPub message rate exceeded.\n",
      "The Jupyter server will temporarily stop sending output\n",
      "to the client in order to avoid crashing it.\n",
      "To change this limit, set the config variable\n",
      "`--ServerApp.iopub_msg_rate_limit`.\n",
      "\n",
      "Current values:\n",
      "ServerApp.iopub_msg_rate_limit=1000.0 (msgs/sec)\n",
      "ServerApp.rate_limit_window=3.0 (secs)\n",
      "\n",
      "IOPub message rate exceeded.\n",
      "The Jupyter server will temporarily stop sending output\n",
      "to the client in order to avoid crashing it.\n",
      "To change this limit, set the config variable\n",
      "`--ServerApp.iopub_msg_rate_limit`.\n",
      "\n",
      "Current values:\n",
      "ServerApp.iopub_msg_rate_limit=1000.0 (msgs/sec)\n",
      "ServerApp.rate_limit_window=3.0 (secs)\n",
      "\n",
      "IOPub message rate exceeded.\n",
      "The Jupyter server will temporarily stop sending output\n",
      "to the client in order to avoid crashing it.\n",
      "To change this limit, set the config variable\n",
      "`--ServerApp.iopub_msg_rate_limit`.\n",
      "\n",
      "Current values:\n",
      "ServerApp.iopub_msg_rate_limit=1000.0 (msgs/sec)\n",
      "ServerApp.rate_limit_window=3.0 (secs)\n",
      "\n",
      "IOPub message rate exceeded.\n",
      "The Jupyter server will temporarily stop sending output\n",
      "to the client in order to avoid crashing it.\n",
      "To change this limit, set the config variable\n",
      "`--ServerApp.iopub_msg_rate_limit`.\n",
      "\n",
      "Current values:\n",
      "ServerApp.iopub_msg_rate_limit=1000.0 (msgs/sec)\n",
      "ServerApp.rate_limit_window=3.0 (secs)\n",
      "\n",
      "IOPub message rate exceeded.\n",
      "The Jupyter server will temporarily stop sending output\n",
      "to the client in order to avoid crashing it.\n",
      "To change this limit, set the config variable\n",
      "`--ServerApp.iopub_msg_rate_limit`.\n",
      "\n",
      "Current values:\n",
      "ServerApp.iopub_msg_rate_limit=1000.0 (msgs/sec)\n",
      "ServerApp.rate_limit_window=3.0 (secs)\n",
      "\n",
      "IOPub message rate exceeded.\n",
      "The Jupyter server will temporarily stop sending output\n",
      "to the client in order to avoid crashing it.\n",
      "To change this limit, set the config variable\n",
      "`--ServerApp.iopub_msg_rate_limit`.\n",
      "\n",
      "Current values:\n",
      "ServerApp.iopub_msg_rate_limit=1000.0 (msgs/sec)\n",
      "ServerApp.rate_limit_window=3.0 (secs)\n",
      "\n",
      "IOPub message rate exceeded.\n",
      "The Jupyter server will temporarily stop sending output\n",
      "to the client in order to avoid crashing it.\n",
      "To change this limit, set the config variable\n",
      "`--ServerApp.iopub_msg_rate_limit`.\n",
      "\n",
      "Current values:\n",
      "ServerApp.iopub_msg_rate_limit=1000.0 (msgs/sec)\n",
      "ServerApp.rate_limit_window=3.0 (secs)\n",
      "\n",
      "IOPub message rate exceeded.\n",
      "The Jupyter server will temporarily stop sending output\n",
      "to the client in order to avoid crashing it.\n",
      "To change this limit, set the config variable\n",
      "`--ServerApp.iopub_msg_rate_limit`.\n",
      "\n",
      "Current values:\n",
      "ServerApp.iopub_msg_rate_limit=1000.0 (msgs/sec)\n",
      "ServerApp.rate_limit_window=3.0 (secs)\n",
      "\n",
      "IOPub message rate exceeded.\n",
      "The Jupyter server will temporarily stop sending output\n",
      "to the client in order to avoid crashing it.\n",
      "To change this limit, set the config variable\n",
      "`--ServerApp.iopub_msg_rate_limit`.\n",
      "\n",
      "Current values:\n",
      "ServerApp.iopub_msg_rate_limit=1000.0 (msgs/sec)\n",
      "ServerApp.rate_limit_window=3.0 (secs)\n",
      "\n",
      "IOPub message rate exceeded.\n",
      "The Jupyter server will temporarily stop sending output\n",
      "to the client in order to avoid crashing it.\n",
      "To change this limit, set the config variable\n",
      "`--ServerApp.iopub_msg_rate_limit`.\n",
      "\n",
      "Current values:\n",
      "ServerApp.iopub_msg_rate_limit=1000.0 (msgs/sec)\n",
      "ServerApp.rate_limit_window=3.0 (secs)\n",
      "\n",
      "IOPub message rate exceeded.\n",
      "The Jupyter server will temporarily stop sending output\n",
      "to the client in order to avoid crashing it.\n",
      "To change this limit, set the config variable\n",
      "`--ServerApp.iopub_msg_rate_limit`.\n",
      "\n",
      "Current values:\n",
      "ServerApp.iopub_msg_rate_limit=1000.0 (msgs/sec)\n",
      "ServerApp.rate_limit_window=3.0 (secs)\n",
      "\n",
      "IOPub message rate exceeded.\n",
      "The Jupyter server will temporarily stop sending output\n",
      "to the client in order to avoid crashing it.\n",
      "To change this limit, set the config variable\n",
      "`--ServerApp.iopub_msg_rate_limit`.\n",
      "\n",
      "Current values:\n",
      "ServerApp.iopub_msg_rate_limit=1000.0 (msgs/sec)\n",
      "ServerApp.rate_limit_window=3.0 (secs)\n",
      "\n"
     ]
    }
   ],
   "source": [
    "import time \n",
    "\n",
    "game.display()\n",
    "start_time = time.time()\n",
    "for run in range(10000): \n",
    "    train()\n",
    "end_time = time.time()\n",
    "elapsed = (end_time - start_time)*1000\n",
    "print(f\"It takes {elapsed} milliseconds to train Simon and Olive.\")"
   ]
  },
  {
   "cell_type": "code",
   "execution_count": null,
   "id": "58a15041-c081-4d15-b936-5b2415c18e62",
   "metadata": {},
   "outputs": [],
   "source": []
  }
 ],
 "metadata": {
  "kernelspec": {
   "display_name": "Python 3 (ipykernel)",
   "language": "python",
   "name": "python3"
  },
  "language_info": {
   "codemirror_mode": {
    "name": "ipython",
    "version": 3
   },
   "file_extension": ".py",
   "mimetype": "text/x-python",
   "name": "python",
   "nbconvert_exporter": "python",
   "pygments_lexer": "ipython3",
   "version": "3.9.6"
  }
 },
 "nbformat": 4,
 "nbformat_minor": 5
}
