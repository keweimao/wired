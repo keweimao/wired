{
 "cells": [
  {
   "cell_type": "markdown",
   "id": "8051eef1-ec21-4184-84e7-bc5145639a0f",
   "metadata": {},
   "source": [
    "# Create TicTacToe and a Bot\n",
    "\n",
    "1. Layout the plan: TicTacToe, winner checking, basics. \n",
    "2. Create a bot: random, rule based, and machine learning to get trained and learn, and self-train to improve. \n",
    "3. Series for checker and chess. \n"
   ]
  },
  {
   "cell_type": "code",
   "execution_count": 19,
   "id": "547bbbb4-9490-4075-8e23-67d9e966641b",
   "metadata": {
    "tags": []
   },
   "outputs": [
    {
     "data": {
      "application/vnd.jupyter.widget-view+json": {
       "model_id": "f816fd0fc8da4236a6bef9a66e04a7f6",
       "version_major": 2,
       "version_minor": 0
      },
      "text/plain": [
       "GridBox(children=(Button(style=ButtonStyle()), Button(style=ButtonStyle()), Button(style=ButtonStyle()), Butto…"
      ]
     },
     "metadata": {},
     "output_type": "display_data"
    },
    {
     "data": {
      "application/vnd.jupyter.widget-view+json": {
       "model_id": "d8f6d6dd6f9f4e16bfe8351fdb94f5d6",
       "version_major": 2,
       "version_minor": 0
      },
      "text/plain": [
       "Output()"
      ]
     },
     "metadata": {},
     "output_type": "display_data"
    }
   ],
   "source": [
    "import ipywidgets as widgets\n",
    "from IPython.display import display\n",
    "\n",
    "class TicTacToe:\n",
    "    def __init__(self):\n",
    "        mt = ' '\n",
    "        self.board = [\n",
    "                    [mt, mt, mt], \n",
    "                    [mt, mt, mt],\n",
    "                    [mt, mt, mt]\n",
    "                ]\n",
    "        self.board = [[' ' for col in range(3)] for row in range(3)]\n",
    "        self.player = 'X'\n",
    "        self.buttons = [[widgets.Button(description='') for _ in range(3)] for _ in range(3)]\n",
    "        for i in range(3):\n",
    "            for j in range(3):\n",
    "                self.buttons[i][j].on_click(self.make_move(i, j))\n",
    "        self.output = widgets.Output()\n",
    "\n",
    "    def make_move(self, i, j):\n",
    "        def on_button_clicked(_):\n",
    "            if self.board[i][j] == ' ':\n",
    "                self.board[i][j] = self.player\n",
    "                self.buttons[i][j].description = self.player\n",
    "                self.player = 'O' if self.player == 'X' else 'X'\n",
    "        return on_button_clicked\n",
    "    \n",
    "    def display(self):\n",
    "        grid = widgets.GridBox([btn for row in self.buttons for btn in row], \n",
    "                               layout=widgets.Layout(grid_template_columns=\"repeat(3, 150px)\"))\n",
    "        display(grid, self.output)\n",
    "\n",
    "game = TicTacToe()\n",
    "game.display()"
   ]
  },
  {
   "cell_type": "code",
   "execution_count": 14,
   "id": "2ca82239-5151-4164-b970-a87af098a2bc",
   "metadata": {
    "tags": []
   },
   "outputs": [
    {
     "data": {
      "application/vnd.jupyter.widget-view+json": {
       "model_id": "ec6b74898def427a849fea551bb5d716",
       "version_major": 2,
       "version_minor": 0
      },
      "text/plain": [
       "GridBox(children=(Button(style=ButtonStyle()), Button(style=ButtonStyle()), Button(style=ButtonStyle()), Butto…"
      ]
     },
     "metadata": {},
     "output_type": "display_data"
    },
    {
     "data": {
      "application/vnd.jupyter.widget-view+json": {
       "model_id": "7696e5e507ee4eb8a1f6f3011f8b8033",
       "version_major": 2,
       "version_minor": 0
      },
      "text/plain": [
       "Output()"
      ]
     },
     "metadata": {},
     "output_type": "display_data"
    }
   ],
   "source": [
    "import ipywidgets as widgets\n",
    "from IPython.display import display\n",
    "\n",
    "class TicTacToe:\n",
    "    def __init__(self):\n",
    "        mt = ' '\n",
    "        self.board = [\n",
    "                    [mt, mt, mt], \n",
    "                    [mt, mt, mt],\n",
    "                    [mt, mt, mt]\n",
    "                ]\n",
    "        self.board = [[' ' for col in range(3)] for row in range(3)]\n",
    "        self.player = 'X'\n",
    "        self.buttons = [[widgets.Button(description='') for _ in range(3)] for _ in range(3)]\n",
    "#         for i in range(3):\n",
    "#             for j in range(3):\n",
    "#                 self.buttons[i][j].on_click(self.make_move(i, j))\n",
    "        self.output = widgets.Output()\n",
    "\n",
    "#     def make_move(self, i, j):\n",
    "#         def on_button_clicked(_):\n",
    "#             if self.board[i][j] == ' ':\n",
    "#                 self.board[i][j] = self.player\n",
    "#                 self.buttons[i][j].description = self.player\n",
    "#                 self.player = 'O' if self.player == 'X' else 'X'\n",
    "#         return on_button_clicked\n",
    "    \n",
    "    def display(self):\n",
    "        grid = widgets.GridBox([btn for row in self.buttons for btn in row], \n",
    "                               layout=widgets.Layout(grid_template_columns=\"repeat(3, 150px)\"))\n",
    "        display(grid, self.output)\n",
    "\n",
    "game = TicTacToe()\n",
    "game.display()"
   ]
  },
  {
   "cell_type": "code",
   "execution_count": null,
   "id": "ff1b5d06-6b65-4378-bcd1-0c96d46132e7",
   "metadata": {},
   "outputs": [],
   "source": []
  }
 ],
 "metadata": {
  "kernelspec": {
   "display_name": "Python 3 (ipykernel)",
   "language": "python",
   "name": "python3"
  },
  "language_info": {
   "codemirror_mode": {
    "name": "ipython",
    "version": 3
   },
   "file_extension": ".py",
   "mimetype": "text/x-python",
   "name": "python",
   "nbconvert_exporter": "python",
   "pygments_lexer": "ipython3",
   "version": "3.9.6"
  }
 },
 "nbformat": 4,
 "nbformat_minor": 5
}
